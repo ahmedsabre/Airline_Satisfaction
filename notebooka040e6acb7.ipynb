{
 "cells": [
  {
   "cell_type": "code",
   "execution_count": 1,
   "id": "b6d9ef62",
   "metadata": {
    "_cell_guid": "b1076dfc-b9ad-4769-8c92-a6c4dae69d19",
    "_uuid": "8f2839f25d086af736a60e9eeb907d3b93b6e0e5",
    "execution": {
     "iopub.execute_input": "2023-07-18T13:09:35.023495Z",
     "iopub.status.busy": "2023-07-18T13:09:35.022338Z",
     "iopub.status.idle": "2023-07-18T13:09:35.106860Z",
     "shell.execute_reply": "2023-07-18T13:09:35.105652Z"
    },
    "papermill": {
     "duration": 0.112346,
     "end_time": "2023-07-18T13:09:35.110351",
     "exception": false,
     "start_time": "2023-07-18T13:09:34.998005",
     "status": "completed"
    },
    "tags": []
   },
   "outputs": [
    {
     "name": "stdout",
     "output_type": "stream",
     "text": [
      "/kaggle/input/airline-passenger-satisfaction/train.csv\n",
      "/kaggle/input/airline-passenger-satisfaction/test.csv\n"
     ]
    }
   ],
   "source": [
    "# This Python 3 environment comes with many helpful analytics libraries installed\n",
    "# It is defined by the kaggle/python Docker image: https://github.com/kaggle/docker-python\n",
    "# For example, here's several helpful packages to load\n",
    "\n",
    "import numpy as np # linear algebra\n",
    "import pandas as pd # data processing, CSV file I/O (e.g. pd.read_csv)\n",
    "\n",
    "# Input data files are available in the read-only \"../input/\" directory\n",
    "# For example, running this (by clicking run or pressing Shift+Enter) will list all files under the input directory\n",
    "\n",
    "import os\n",
    "for dirname, _, filenames in os.walk('/kaggle/input'):\n",
    "    for filename in filenames:\n",
    "        print(os.path.join(dirname, filename))\n",
    "\n",
    "# You can write up to 20GB to the current directory (/kaggle/working/) that gets preserved as output when you create a version using \"Save & Run All\" \n",
    "# You can also write temporary files to /kaggle/temp/, but they won't be saved outside of the current session"
   ]
  },
  {
   "cell_type": "markdown",
   "id": "d3cc4f7a",
   "metadata": {
    "papermill": {
     "duration": 0.017067,
     "end_time": "2023-07-18T13:09:35.145523",
     "exception": false,
     "start_time": "2023-07-18T13:09:35.128456",
     "status": "completed"
    },
    "tags": []
   },
   "source": [
    "# US Airline Passenger Satisfaction Prediction"
   ]
  },
  {
   "cell_type": "code",
   "execution_count": 2,
   "id": "351770f2",
   "metadata": {
    "execution": {
     "iopub.execute_input": "2023-07-18T13:09:35.186188Z",
     "iopub.status.busy": "2023-07-18T13:09:35.185744Z",
     "iopub.status.idle": "2023-07-18T13:09:37.641037Z",
     "shell.execute_reply": "2023-07-18T13:09:37.640066Z"
    },
    "papermill": {
     "duration": 2.47842,
     "end_time": "2023-07-18T13:09:37.643897",
     "exception": false,
     "start_time": "2023-07-18T13:09:35.165477",
     "status": "completed"
    },
    "tags": []
   },
   "outputs": [
    {
     "name": "stderr",
     "output_type": "stream",
     "text": [
      "/opt/conda/lib/python3.10/site-packages/scipy/__init__.py:146: UserWarning: A NumPy version >=1.16.5 and <1.23.0 is required for this version of SciPy (detected version 1.23.5\n",
      "  warnings.warn(f\"A NumPy version >={np_minversion} and <{np_maxversion}\"\n"
     ]
    }
   ],
   "source": [
    "import pandas as pd\n",
    "import numpy as np\n",
    "import matplotlib.pyplot as plt\n",
    "import seaborn as sns\n",
    "import plotly.express as px\n",
    "import warnings\n",
    "warnings.filterwarnings('ignore')"
   ]
  },
  {
   "cell_type": "code",
   "execution_count": 3,
   "id": "3c11d3a0",
   "metadata": {
    "execution": {
     "iopub.execute_input": "2023-07-18T13:09:37.682229Z",
     "iopub.status.busy": "2023-07-18T13:09:37.681047Z",
     "iopub.status.idle": "2023-07-18T13:09:38.350327Z",
     "shell.execute_reply": "2023-07-18T13:09:38.349197Z"
    },
    "papermill": {
     "duration": 0.691115,
     "end_time": "2023-07-18T13:09:38.353450",
     "exception": false,
     "start_time": "2023-07-18T13:09:37.662335",
     "status": "completed"
    },
    "tags": []
   },
   "outputs": [
    {
     "data": {
      "text/html": [
       "<div>\n",
       "<style scoped>\n",
       "    .dataframe tbody tr th:only-of-type {\n",
       "        vertical-align: middle;\n",
       "    }\n",
       "\n",
       "    .dataframe tbody tr th {\n",
       "        vertical-align: top;\n",
       "    }\n",
       "\n",
       "    .dataframe thead th {\n",
       "        text-align: right;\n",
       "    }\n",
       "</style>\n",
       "<table border=\"1\" class=\"dataframe\">\n",
       "  <thead>\n",
       "    <tr style=\"text-align: right;\">\n",
       "      <th></th>\n",
       "      <th>Unnamed: 0</th>\n",
       "      <th>id</th>\n",
       "      <th>Gender</th>\n",
       "      <th>Customer Type</th>\n",
       "      <th>Age</th>\n",
       "      <th>Type of Travel</th>\n",
       "      <th>Class</th>\n",
       "      <th>Flight Distance</th>\n",
       "      <th>Inflight wifi service</th>\n",
       "      <th>Departure/Arrival time convenient</th>\n",
       "      <th>...</th>\n",
       "      <th>Inflight entertainment</th>\n",
       "      <th>On-board service</th>\n",
       "      <th>Leg room service</th>\n",
       "      <th>Baggage handling</th>\n",
       "      <th>Checkin service</th>\n",
       "      <th>Inflight service</th>\n",
       "      <th>Cleanliness</th>\n",
       "      <th>Departure Delay in Minutes</th>\n",
       "      <th>Arrival Delay in Minutes</th>\n",
       "      <th>satisfaction</th>\n",
       "    </tr>\n",
       "  </thead>\n",
       "  <tbody>\n",
       "    <tr>\n",
       "      <th>0</th>\n",
       "      <td>0</td>\n",
       "      <td>70172</td>\n",
       "      <td>Male</td>\n",
       "      <td>Loyal Customer</td>\n",
       "      <td>13</td>\n",
       "      <td>Personal Travel</td>\n",
       "      <td>Eco Plus</td>\n",
       "      <td>460</td>\n",
       "      <td>3</td>\n",
       "      <td>4</td>\n",
       "      <td>...</td>\n",
       "      <td>5</td>\n",
       "      <td>4</td>\n",
       "      <td>3</td>\n",
       "      <td>4</td>\n",
       "      <td>4</td>\n",
       "      <td>5</td>\n",
       "      <td>5</td>\n",
       "      <td>25</td>\n",
       "      <td>18.0</td>\n",
       "      <td>neutral or dissatisfied</td>\n",
       "    </tr>\n",
       "    <tr>\n",
       "      <th>1</th>\n",
       "      <td>1</td>\n",
       "      <td>5047</td>\n",
       "      <td>Male</td>\n",
       "      <td>disloyal Customer</td>\n",
       "      <td>25</td>\n",
       "      <td>Business travel</td>\n",
       "      <td>Business</td>\n",
       "      <td>235</td>\n",
       "      <td>3</td>\n",
       "      <td>2</td>\n",
       "      <td>...</td>\n",
       "      <td>1</td>\n",
       "      <td>1</td>\n",
       "      <td>5</td>\n",
       "      <td>3</td>\n",
       "      <td>1</td>\n",
       "      <td>4</td>\n",
       "      <td>1</td>\n",
       "      <td>1</td>\n",
       "      <td>6.0</td>\n",
       "      <td>neutral or dissatisfied</td>\n",
       "    </tr>\n",
       "    <tr>\n",
       "      <th>2</th>\n",
       "      <td>2</td>\n",
       "      <td>110028</td>\n",
       "      <td>Female</td>\n",
       "      <td>Loyal Customer</td>\n",
       "      <td>26</td>\n",
       "      <td>Business travel</td>\n",
       "      <td>Business</td>\n",
       "      <td>1142</td>\n",
       "      <td>2</td>\n",
       "      <td>2</td>\n",
       "      <td>...</td>\n",
       "      <td>5</td>\n",
       "      <td>4</td>\n",
       "      <td>3</td>\n",
       "      <td>4</td>\n",
       "      <td>4</td>\n",
       "      <td>4</td>\n",
       "      <td>5</td>\n",
       "      <td>0</td>\n",
       "      <td>0.0</td>\n",
       "      <td>satisfied</td>\n",
       "    </tr>\n",
       "    <tr>\n",
       "      <th>3</th>\n",
       "      <td>3</td>\n",
       "      <td>24026</td>\n",
       "      <td>Female</td>\n",
       "      <td>Loyal Customer</td>\n",
       "      <td>25</td>\n",
       "      <td>Business travel</td>\n",
       "      <td>Business</td>\n",
       "      <td>562</td>\n",
       "      <td>2</td>\n",
       "      <td>5</td>\n",
       "      <td>...</td>\n",
       "      <td>2</td>\n",
       "      <td>2</td>\n",
       "      <td>5</td>\n",
       "      <td>3</td>\n",
       "      <td>1</td>\n",
       "      <td>4</td>\n",
       "      <td>2</td>\n",
       "      <td>11</td>\n",
       "      <td>9.0</td>\n",
       "      <td>neutral or dissatisfied</td>\n",
       "    </tr>\n",
       "    <tr>\n",
       "      <th>4</th>\n",
       "      <td>4</td>\n",
       "      <td>119299</td>\n",
       "      <td>Male</td>\n",
       "      <td>Loyal Customer</td>\n",
       "      <td>61</td>\n",
       "      <td>Business travel</td>\n",
       "      <td>Business</td>\n",
       "      <td>214</td>\n",
       "      <td>3</td>\n",
       "      <td>3</td>\n",
       "      <td>...</td>\n",
       "      <td>3</td>\n",
       "      <td>3</td>\n",
       "      <td>4</td>\n",
       "      <td>4</td>\n",
       "      <td>3</td>\n",
       "      <td>3</td>\n",
       "      <td>3</td>\n",
       "      <td>0</td>\n",
       "      <td>0.0</td>\n",
       "      <td>satisfied</td>\n",
       "    </tr>\n",
       "    <tr>\n",
       "      <th>...</th>\n",
       "      <td>...</td>\n",
       "      <td>...</td>\n",
       "      <td>...</td>\n",
       "      <td>...</td>\n",
       "      <td>...</td>\n",
       "      <td>...</td>\n",
       "      <td>...</td>\n",
       "      <td>...</td>\n",
       "      <td>...</td>\n",
       "      <td>...</td>\n",
       "      <td>...</td>\n",
       "      <td>...</td>\n",
       "      <td>...</td>\n",
       "      <td>...</td>\n",
       "      <td>...</td>\n",
       "      <td>...</td>\n",
       "      <td>...</td>\n",
       "      <td>...</td>\n",
       "      <td>...</td>\n",
       "      <td>...</td>\n",
       "      <td>...</td>\n",
       "    </tr>\n",
       "    <tr>\n",
       "      <th>103899</th>\n",
       "      <td>103899</td>\n",
       "      <td>94171</td>\n",
       "      <td>Female</td>\n",
       "      <td>disloyal Customer</td>\n",
       "      <td>23</td>\n",
       "      <td>Business travel</td>\n",
       "      <td>Eco</td>\n",
       "      <td>192</td>\n",
       "      <td>2</td>\n",
       "      <td>1</td>\n",
       "      <td>...</td>\n",
       "      <td>2</td>\n",
       "      <td>3</td>\n",
       "      <td>1</td>\n",
       "      <td>4</td>\n",
       "      <td>2</td>\n",
       "      <td>3</td>\n",
       "      <td>2</td>\n",
       "      <td>3</td>\n",
       "      <td>0.0</td>\n",
       "      <td>neutral or dissatisfied</td>\n",
       "    </tr>\n",
       "    <tr>\n",
       "      <th>103900</th>\n",
       "      <td>103900</td>\n",
       "      <td>73097</td>\n",
       "      <td>Male</td>\n",
       "      <td>Loyal Customer</td>\n",
       "      <td>49</td>\n",
       "      <td>Business travel</td>\n",
       "      <td>Business</td>\n",
       "      <td>2347</td>\n",
       "      <td>4</td>\n",
       "      <td>4</td>\n",
       "      <td>...</td>\n",
       "      <td>5</td>\n",
       "      <td>5</td>\n",
       "      <td>5</td>\n",
       "      <td>5</td>\n",
       "      <td>5</td>\n",
       "      <td>5</td>\n",
       "      <td>4</td>\n",
       "      <td>0</td>\n",
       "      <td>0.0</td>\n",
       "      <td>satisfied</td>\n",
       "    </tr>\n",
       "    <tr>\n",
       "      <th>103901</th>\n",
       "      <td>103901</td>\n",
       "      <td>68825</td>\n",
       "      <td>Male</td>\n",
       "      <td>disloyal Customer</td>\n",
       "      <td>30</td>\n",
       "      <td>Business travel</td>\n",
       "      <td>Business</td>\n",
       "      <td>1995</td>\n",
       "      <td>1</td>\n",
       "      <td>1</td>\n",
       "      <td>...</td>\n",
       "      <td>4</td>\n",
       "      <td>3</td>\n",
       "      <td>2</td>\n",
       "      <td>4</td>\n",
       "      <td>5</td>\n",
       "      <td>5</td>\n",
       "      <td>4</td>\n",
       "      <td>7</td>\n",
       "      <td>14.0</td>\n",
       "      <td>neutral or dissatisfied</td>\n",
       "    </tr>\n",
       "    <tr>\n",
       "      <th>103902</th>\n",
       "      <td>103902</td>\n",
       "      <td>54173</td>\n",
       "      <td>Female</td>\n",
       "      <td>disloyal Customer</td>\n",
       "      <td>22</td>\n",
       "      <td>Business travel</td>\n",
       "      <td>Eco</td>\n",
       "      <td>1000</td>\n",
       "      <td>1</td>\n",
       "      <td>1</td>\n",
       "      <td>...</td>\n",
       "      <td>1</td>\n",
       "      <td>4</td>\n",
       "      <td>5</td>\n",
       "      <td>1</td>\n",
       "      <td>5</td>\n",
       "      <td>4</td>\n",
       "      <td>1</td>\n",
       "      <td>0</td>\n",
       "      <td>0.0</td>\n",
       "      <td>neutral or dissatisfied</td>\n",
       "    </tr>\n",
       "    <tr>\n",
       "      <th>103903</th>\n",
       "      <td>103903</td>\n",
       "      <td>62567</td>\n",
       "      <td>Male</td>\n",
       "      <td>Loyal Customer</td>\n",
       "      <td>27</td>\n",
       "      <td>Business travel</td>\n",
       "      <td>Business</td>\n",
       "      <td>1723</td>\n",
       "      <td>1</td>\n",
       "      <td>3</td>\n",
       "      <td>...</td>\n",
       "      <td>1</td>\n",
       "      <td>1</td>\n",
       "      <td>1</td>\n",
       "      <td>4</td>\n",
       "      <td>4</td>\n",
       "      <td>3</td>\n",
       "      <td>1</td>\n",
       "      <td>0</td>\n",
       "      <td>0.0</td>\n",
       "      <td>neutral or dissatisfied</td>\n",
       "    </tr>\n",
       "  </tbody>\n",
       "</table>\n",
       "<p>103904 rows × 25 columns</p>\n",
       "</div>"
      ],
      "text/plain": [
       "        Unnamed: 0      id  Gender      Customer Type  Age   Type of Travel  \\\n",
       "0                0   70172    Male     Loyal Customer   13  Personal Travel   \n",
       "1                1    5047    Male  disloyal Customer   25  Business travel   \n",
       "2                2  110028  Female     Loyal Customer   26  Business travel   \n",
       "3                3   24026  Female     Loyal Customer   25  Business travel   \n",
       "4                4  119299    Male     Loyal Customer   61  Business travel   \n",
       "...            ...     ...     ...                ...  ...              ...   \n",
       "103899      103899   94171  Female  disloyal Customer   23  Business travel   \n",
       "103900      103900   73097    Male     Loyal Customer   49  Business travel   \n",
       "103901      103901   68825    Male  disloyal Customer   30  Business travel   \n",
       "103902      103902   54173  Female  disloyal Customer   22  Business travel   \n",
       "103903      103903   62567    Male     Loyal Customer   27  Business travel   \n",
       "\n",
       "           Class  Flight Distance  Inflight wifi service  \\\n",
       "0       Eco Plus              460                      3   \n",
       "1       Business              235                      3   \n",
       "2       Business             1142                      2   \n",
       "3       Business              562                      2   \n",
       "4       Business              214                      3   \n",
       "...          ...              ...                    ...   \n",
       "103899       Eco              192                      2   \n",
       "103900  Business             2347                      4   \n",
       "103901  Business             1995                      1   \n",
       "103902       Eco             1000                      1   \n",
       "103903  Business             1723                      1   \n",
       "\n",
       "        Departure/Arrival time convenient  ...  Inflight entertainment  \\\n",
       "0                                       4  ...                       5   \n",
       "1                                       2  ...                       1   \n",
       "2                                       2  ...                       5   \n",
       "3                                       5  ...                       2   \n",
       "4                                       3  ...                       3   \n",
       "...                                   ...  ...                     ...   \n",
       "103899                                  1  ...                       2   \n",
       "103900                                  4  ...                       5   \n",
       "103901                                  1  ...                       4   \n",
       "103902                                  1  ...                       1   \n",
       "103903                                  3  ...                       1   \n",
       "\n",
       "        On-board service  Leg room service  Baggage handling  Checkin service  \\\n",
       "0                      4                 3                 4                4   \n",
       "1                      1                 5                 3                1   \n",
       "2                      4                 3                 4                4   \n",
       "3                      2                 5                 3                1   \n",
       "4                      3                 4                 4                3   \n",
       "...                  ...               ...               ...              ...   \n",
       "103899                 3                 1                 4                2   \n",
       "103900                 5                 5                 5                5   \n",
       "103901                 3                 2                 4                5   \n",
       "103902                 4                 5                 1                5   \n",
       "103903                 1                 1                 4                4   \n",
       "\n",
       "        Inflight service  Cleanliness  Departure Delay in Minutes  \\\n",
       "0                      5            5                          25   \n",
       "1                      4            1                           1   \n",
       "2                      4            5                           0   \n",
       "3                      4            2                          11   \n",
       "4                      3            3                           0   \n",
       "...                  ...          ...                         ...   \n",
       "103899                 3            2                           3   \n",
       "103900                 5            4                           0   \n",
       "103901                 5            4                           7   \n",
       "103902                 4            1                           0   \n",
       "103903                 3            1                           0   \n",
       "\n",
       "        Arrival Delay in Minutes             satisfaction  \n",
       "0                           18.0  neutral or dissatisfied  \n",
       "1                            6.0  neutral or dissatisfied  \n",
       "2                            0.0                satisfied  \n",
       "3                            9.0  neutral or dissatisfied  \n",
       "4                            0.0                satisfied  \n",
       "...                          ...                      ...  \n",
       "103899                       0.0  neutral or dissatisfied  \n",
       "103900                       0.0                satisfied  \n",
       "103901                      14.0  neutral or dissatisfied  \n",
       "103902                       0.0  neutral or dissatisfied  \n",
       "103903                       0.0  neutral or dissatisfied  \n",
       "\n",
       "[103904 rows x 25 columns]"
      ]
     },
     "execution_count": 3,
     "metadata": {},
     "output_type": "execute_result"
    }
   ],
   "source": [
    "df_train=pd.read_csv('/kaggle/input/airline-passenger-satisfaction/train.csv')\n",
    "df_train"
   ]
  },
  {
   "cell_type": "code",
   "execution_count": 4,
   "id": "9ab4f5cb",
   "metadata": {
    "execution": {
     "iopub.execute_input": "2023-07-18T13:09:38.390845Z",
     "iopub.status.busy": "2023-07-18T13:09:38.390437Z",
     "iopub.status.idle": "2023-07-18T13:09:38.584480Z",
     "shell.execute_reply": "2023-07-18T13:09:38.583024Z"
    },
    "papermill": {
     "duration": 0.216033,
     "end_time": "2023-07-18T13:09:38.587205",
     "exception": false,
     "start_time": "2023-07-18T13:09:38.371172",
     "status": "completed"
    },
    "tags": []
   },
   "outputs": [
    {
     "data": {
      "text/html": [
       "<div>\n",
       "<style scoped>\n",
       "    .dataframe tbody tr th:only-of-type {\n",
       "        vertical-align: middle;\n",
       "    }\n",
       "\n",
       "    .dataframe tbody tr th {\n",
       "        vertical-align: top;\n",
       "    }\n",
       "\n",
       "    .dataframe thead th {\n",
       "        text-align: right;\n",
       "    }\n",
       "</style>\n",
       "<table border=\"1\" class=\"dataframe\">\n",
       "  <thead>\n",
       "    <tr style=\"text-align: right;\">\n",
       "      <th></th>\n",
       "      <th>Unnamed: 0</th>\n",
       "      <th>id</th>\n",
       "      <th>Gender</th>\n",
       "      <th>Customer Type</th>\n",
       "      <th>Age</th>\n",
       "      <th>Type of Travel</th>\n",
       "      <th>Class</th>\n",
       "      <th>Flight Distance</th>\n",
       "      <th>Inflight wifi service</th>\n",
       "      <th>Departure/Arrival time convenient</th>\n",
       "      <th>...</th>\n",
       "      <th>Inflight entertainment</th>\n",
       "      <th>On-board service</th>\n",
       "      <th>Leg room service</th>\n",
       "      <th>Baggage handling</th>\n",
       "      <th>Checkin service</th>\n",
       "      <th>Inflight service</th>\n",
       "      <th>Cleanliness</th>\n",
       "      <th>Departure Delay in Minutes</th>\n",
       "      <th>Arrival Delay in Minutes</th>\n",
       "      <th>satisfaction</th>\n",
       "    </tr>\n",
       "  </thead>\n",
       "  <tbody>\n",
       "    <tr>\n",
       "      <th>0</th>\n",
       "      <td>0</td>\n",
       "      <td>19556</td>\n",
       "      <td>Female</td>\n",
       "      <td>Loyal Customer</td>\n",
       "      <td>52</td>\n",
       "      <td>Business travel</td>\n",
       "      <td>Eco</td>\n",
       "      <td>160</td>\n",
       "      <td>5</td>\n",
       "      <td>4</td>\n",
       "      <td>...</td>\n",
       "      <td>5</td>\n",
       "      <td>5</td>\n",
       "      <td>5</td>\n",
       "      <td>5</td>\n",
       "      <td>2</td>\n",
       "      <td>5</td>\n",
       "      <td>5</td>\n",
       "      <td>50</td>\n",
       "      <td>44.0</td>\n",
       "      <td>satisfied</td>\n",
       "    </tr>\n",
       "    <tr>\n",
       "      <th>1</th>\n",
       "      <td>1</td>\n",
       "      <td>90035</td>\n",
       "      <td>Female</td>\n",
       "      <td>Loyal Customer</td>\n",
       "      <td>36</td>\n",
       "      <td>Business travel</td>\n",
       "      <td>Business</td>\n",
       "      <td>2863</td>\n",
       "      <td>1</td>\n",
       "      <td>1</td>\n",
       "      <td>...</td>\n",
       "      <td>4</td>\n",
       "      <td>4</td>\n",
       "      <td>4</td>\n",
       "      <td>4</td>\n",
       "      <td>3</td>\n",
       "      <td>4</td>\n",
       "      <td>5</td>\n",
       "      <td>0</td>\n",
       "      <td>0.0</td>\n",
       "      <td>satisfied</td>\n",
       "    </tr>\n",
       "    <tr>\n",
       "      <th>2</th>\n",
       "      <td>2</td>\n",
       "      <td>12360</td>\n",
       "      <td>Male</td>\n",
       "      <td>disloyal Customer</td>\n",
       "      <td>20</td>\n",
       "      <td>Business travel</td>\n",
       "      <td>Eco</td>\n",
       "      <td>192</td>\n",
       "      <td>2</td>\n",
       "      <td>0</td>\n",
       "      <td>...</td>\n",
       "      <td>2</td>\n",
       "      <td>4</td>\n",
       "      <td>1</td>\n",
       "      <td>3</td>\n",
       "      <td>2</td>\n",
       "      <td>2</td>\n",
       "      <td>2</td>\n",
       "      <td>0</td>\n",
       "      <td>0.0</td>\n",
       "      <td>neutral or dissatisfied</td>\n",
       "    </tr>\n",
       "    <tr>\n",
       "      <th>3</th>\n",
       "      <td>3</td>\n",
       "      <td>77959</td>\n",
       "      <td>Male</td>\n",
       "      <td>Loyal Customer</td>\n",
       "      <td>44</td>\n",
       "      <td>Business travel</td>\n",
       "      <td>Business</td>\n",
       "      <td>3377</td>\n",
       "      <td>0</td>\n",
       "      <td>0</td>\n",
       "      <td>...</td>\n",
       "      <td>1</td>\n",
       "      <td>1</td>\n",
       "      <td>1</td>\n",
       "      <td>1</td>\n",
       "      <td>3</td>\n",
       "      <td>1</td>\n",
       "      <td>4</td>\n",
       "      <td>0</td>\n",
       "      <td>6.0</td>\n",
       "      <td>satisfied</td>\n",
       "    </tr>\n",
       "    <tr>\n",
       "      <th>4</th>\n",
       "      <td>4</td>\n",
       "      <td>36875</td>\n",
       "      <td>Female</td>\n",
       "      <td>Loyal Customer</td>\n",
       "      <td>49</td>\n",
       "      <td>Business travel</td>\n",
       "      <td>Eco</td>\n",
       "      <td>1182</td>\n",
       "      <td>2</td>\n",
       "      <td>3</td>\n",
       "      <td>...</td>\n",
       "      <td>2</td>\n",
       "      <td>2</td>\n",
       "      <td>2</td>\n",
       "      <td>2</td>\n",
       "      <td>4</td>\n",
       "      <td>2</td>\n",
       "      <td>4</td>\n",
       "      <td>0</td>\n",
       "      <td>20.0</td>\n",
       "      <td>satisfied</td>\n",
       "    </tr>\n",
       "    <tr>\n",
       "      <th>...</th>\n",
       "      <td>...</td>\n",
       "      <td>...</td>\n",
       "      <td>...</td>\n",
       "      <td>...</td>\n",
       "      <td>...</td>\n",
       "      <td>...</td>\n",
       "      <td>...</td>\n",
       "      <td>...</td>\n",
       "      <td>...</td>\n",
       "      <td>...</td>\n",
       "      <td>...</td>\n",
       "      <td>...</td>\n",
       "      <td>...</td>\n",
       "      <td>...</td>\n",
       "      <td>...</td>\n",
       "      <td>...</td>\n",
       "      <td>...</td>\n",
       "      <td>...</td>\n",
       "      <td>...</td>\n",
       "      <td>...</td>\n",
       "      <td>...</td>\n",
       "    </tr>\n",
       "    <tr>\n",
       "      <th>25971</th>\n",
       "      <td>25971</td>\n",
       "      <td>78463</td>\n",
       "      <td>Male</td>\n",
       "      <td>disloyal Customer</td>\n",
       "      <td>34</td>\n",
       "      <td>Business travel</td>\n",
       "      <td>Business</td>\n",
       "      <td>526</td>\n",
       "      <td>3</td>\n",
       "      <td>3</td>\n",
       "      <td>...</td>\n",
       "      <td>4</td>\n",
       "      <td>3</td>\n",
       "      <td>2</td>\n",
       "      <td>4</td>\n",
       "      <td>4</td>\n",
       "      <td>5</td>\n",
       "      <td>4</td>\n",
       "      <td>0</td>\n",
       "      <td>0.0</td>\n",
       "      <td>neutral or dissatisfied</td>\n",
       "    </tr>\n",
       "    <tr>\n",
       "      <th>25972</th>\n",
       "      <td>25972</td>\n",
       "      <td>71167</td>\n",
       "      <td>Male</td>\n",
       "      <td>Loyal Customer</td>\n",
       "      <td>23</td>\n",
       "      <td>Business travel</td>\n",
       "      <td>Business</td>\n",
       "      <td>646</td>\n",
       "      <td>4</td>\n",
       "      <td>4</td>\n",
       "      <td>...</td>\n",
       "      <td>4</td>\n",
       "      <td>4</td>\n",
       "      <td>5</td>\n",
       "      <td>5</td>\n",
       "      <td>5</td>\n",
       "      <td>5</td>\n",
       "      <td>4</td>\n",
       "      <td>0</td>\n",
       "      <td>0.0</td>\n",
       "      <td>satisfied</td>\n",
       "    </tr>\n",
       "    <tr>\n",
       "      <th>25973</th>\n",
       "      <td>25973</td>\n",
       "      <td>37675</td>\n",
       "      <td>Female</td>\n",
       "      <td>Loyal Customer</td>\n",
       "      <td>17</td>\n",
       "      <td>Personal Travel</td>\n",
       "      <td>Eco</td>\n",
       "      <td>828</td>\n",
       "      <td>2</td>\n",
       "      <td>5</td>\n",
       "      <td>...</td>\n",
       "      <td>2</td>\n",
       "      <td>4</td>\n",
       "      <td>3</td>\n",
       "      <td>4</td>\n",
       "      <td>5</td>\n",
       "      <td>4</td>\n",
       "      <td>2</td>\n",
       "      <td>0</td>\n",
       "      <td>0.0</td>\n",
       "      <td>neutral or dissatisfied</td>\n",
       "    </tr>\n",
       "    <tr>\n",
       "      <th>25974</th>\n",
       "      <td>25974</td>\n",
       "      <td>90086</td>\n",
       "      <td>Male</td>\n",
       "      <td>Loyal Customer</td>\n",
       "      <td>14</td>\n",
       "      <td>Business travel</td>\n",
       "      <td>Business</td>\n",
       "      <td>1127</td>\n",
       "      <td>3</td>\n",
       "      <td>3</td>\n",
       "      <td>...</td>\n",
       "      <td>4</td>\n",
       "      <td>3</td>\n",
       "      <td>2</td>\n",
       "      <td>5</td>\n",
       "      <td>4</td>\n",
       "      <td>5</td>\n",
       "      <td>4</td>\n",
       "      <td>0</td>\n",
       "      <td>0.0</td>\n",
       "      <td>satisfied</td>\n",
       "    </tr>\n",
       "    <tr>\n",
       "      <th>25975</th>\n",
       "      <td>25975</td>\n",
       "      <td>34799</td>\n",
       "      <td>Female</td>\n",
       "      <td>Loyal Customer</td>\n",
       "      <td>42</td>\n",
       "      <td>Personal Travel</td>\n",
       "      <td>Eco</td>\n",
       "      <td>264</td>\n",
       "      <td>2</td>\n",
       "      <td>5</td>\n",
       "      <td>...</td>\n",
       "      <td>1</td>\n",
       "      <td>1</td>\n",
       "      <td>2</td>\n",
       "      <td>1</td>\n",
       "      <td>1</td>\n",
       "      <td>1</td>\n",
       "      <td>1</td>\n",
       "      <td>0</td>\n",
       "      <td>0.0</td>\n",
       "      <td>neutral or dissatisfied</td>\n",
       "    </tr>\n",
       "  </tbody>\n",
       "</table>\n",
       "<p>25976 rows × 25 columns</p>\n",
       "</div>"
      ],
      "text/plain": [
       "       Unnamed: 0     id  Gender      Customer Type  Age   Type of Travel  \\\n",
       "0               0  19556  Female     Loyal Customer   52  Business travel   \n",
       "1               1  90035  Female     Loyal Customer   36  Business travel   \n",
       "2               2  12360    Male  disloyal Customer   20  Business travel   \n",
       "3               3  77959    Male     Loyal Customer   44  Business travel   \n",
       "4               4  36875  Female     Loyal Customer   49  Business travel   \n",
       "...           ...    ...     ...                ...  ...              ...   \n",
       "25971       25971  78463    Male  disloyal Customer   34  Business travel   \n",
       "25972       25972  71167    Male     Loyal Customer   23  Business travel   \n",
       "25973       25973  37675  Female     Loyal Customer   17  Personal Travel   \n",
       "25974       25974  90086    Male     Loyal Customer   14  Business travel   \n",
       "25975       25975  34799  Female     Loyal Customer   42  Personal Travel   \n",
       "\n",
       "          Class  Flight Distance  Inflight wifi service  \\\n",
       "0           Eco              160                      5   \n",
       "1      Business             2863                      1   \n",
       "2           Eco              192                      2   \n",
       "3      Business             3377                      0   \n",
       "4           Eco             1182                      2   \n",
       "...         ...              ...                    ...   \n",
       "25971  Business              526                      3   \n",
       "25972  Business              646                      4   \n",
       "25973       Eco              828                      2   \n",
       "25974  Business             1127                      3   \n",
       "25975       Eco              264                      2   \n",
       "\n",
       "       Departure/Arrival time convenient  ...  Inflight entertainment  \\\n",
       "0                                      4  ...                       5   \n",
       "1                                      1  ...                       4   \n",
       "2                                      0  ...                       2   \n",
       "3                                      0  ...                       1   \n",
       "4                                      3  ...                       2   \n",
       "...                                  ...  ...                     ...   \n",
       "25971                                  3  ...                       4   \n",
       "25972                                  4  ...                       4   \n",
       "25973                                  5  ...                       2   \n",
       "25974                                  3  ...                       4   \n",
       "25975                                  5  ...                       1   \n",
       "\n",
       "       On-board service  Leg room service  Baggage handling  Checkin service  \\\n",
       "0                     5                 5                 5                2   \n",
       "1                     4                 4                 4                3   \n",
       "2                     4                 1                 3                2   \n",
       "3                     1                 1                 1                3   \n",
       "4                     2                 2                 2                4   \n",
       "...                 ...               ...               ...              ...   \n",
       "25971                 3                 2                 4                4   \n",
       "25972                 4                 5                 5                5   \n",
       "25973                 4                 3                 4                5   \n",
       "25974                 3                 2                 5                4   \n",
       "25975                 1                 2                 1                1   \n",
       "\n",
       "       Inflight service  Cleanliness  Departure Delay in Minutes  \\\n",
       "0                     5            5                          50   \n",
       "1                     4            5                           0   \n",
       "2                     2            2                           0   \n",
       "3                     1            4                           0   \n",
       "4                     2            4                           0   \n",
       "...                 ...          ...                         ...   \n",
       "25971                 5            4                           0   \n",
       "25972                 5            4                           0   \n",
       "25973                 4            2                           0   \n",
       "25974                 5            4                           0   \n",
       "25975                 1            1                           0   \n",
       "\n",
       "       Arrival Delay in Minutes             satisfaction  \n",
       "0                          44.0                satisfied  \n",
       "1                           0.0                satisfied  \n",
       "2                           0.0  neutral or dissatisfied  \n",
       "3                           6.0                satisfied  \n",
       "4                          20.0                satisfied  \n",
       "...                         ...                      ...  \n",
       "25971                       0.0  neutral or dissatisfied  \n",
       "25972                       0.0                satisfied  \n",
       "25973                       0.0  neutral or dissatisfied  \n",
       "25974                       0.0                satisfied  \n",
       "25975                       0.0  neutral or dissatisfied  \n",
       "\n",
       "[25976 rows x 25 columns]"
      ]
     },
     "execution_count": 4,
     "metadata": {},
     "output_type": "execute_result"
    }
   ],
   "source": [
    "df_test=pd.read_csv('/kaggle/input/airline-passenger-satisfaction/test.csv')\n",
    "df_test"
   ]
  },
  {
   "cell_type": "markdown",
   "id": "fe3ff786",
   "metadata": {
    "papermill": {
     "duration": 0.018694,
     "end_time": "2023-07-18T13:09:38.624495",
     "exception": false,
     "start_time": "2023-07-18T13:09:38.605801",
     "status": "completed"
    },
    "tags": []
   },
   "source": [
    "# merging train and test data to one data to export it to power bi for analyze"
   ]
  },
  {
   "cell_type": "code",
   "execution_count": 5,
   "id": "6a1ed692",
   "metadata": {
    "execution": {
     "iopub.execute_input": "2023-07-18T13:09:38.664034Z",
     "iopub.status.busy": "2023-07-18T13:09:38.663526Z",
     "iopub.status.idle": "2023-07-18T13:09:38.724295Z",
     "shell.execute_reply": "2023-07-18T13:09:38.722694Z"
    },
    "papermill": {
     "duration": 0.084561,
     "end_time": "2023-07-18T13:09:38.727561",
     "exception": false,
     "start_time": "2023-07-18T13:09:38.643000",
     "status": "completed"
    },
    "tags": []
   },
   "outputs": [
    {
     "data": {
      "text/html": [
       "<div>\n",
       "<style scoped>\n",
       "    .dataframe tbody tr th:only-of-type {\n",
       "        vertical-align: middle;\n",
       "    }\n",
       "\n",
       "    .dataframe tbody tr th {\n",
       "        vertical-align: top;\n",
       "    }\n",
       "\n",
       "    .dataframe thead th {\n",
       "        text-align: right;\n",
       "    }\n",
       "</style>\n",
       "<table border=\"1\" class=\"dataframe\">\n",
       "  <thead>\n",
       "    <tr style=\"text-align: right;\">\n",
       "      <th></th>\n",
       "      <th>Unnamed: 0</th>\n",
       "      <th>id</th>\n",
       "      <th>Gender</th>\n",
       "      <th>Customer Type</th>\n",
       "      <th>Age</th>\n",
       "      <th>Type of Travel</th>\n",
       "      <th>Class</th>\n",
       "      <th>Flight Distance</th>\n",
       "      <th>Inflight wifi service</th>\n",
       "      <th>Departure/Arrival time convenient</th>\n",
       "      <th>...</th>\n",
       "      <th>Inflight entertainment</th>\n",
       "      <th>On-board service</th>\n",
       "      <th>Leg room service</th>\n",
       "      <th>Baggage handling</th>\n",
       "      <th>Checkin service</th>\n",
       "      <th>Inflight service</th>\n",
       "      <th>Cleanliness</th>\n",
       "      <th>Departure Delay in Minutes</th>\n",
       "      <th>Arrival Delay in Minutes</th>\n",
       "      <th>satisfaction</th>\n",
       "    </tr>\n",
       "  </thead>\n",
       "  <tbody>\n",
       "    <tr>\n",
       "      <th>0</th>\n",
       "      <td>0</td>\n",
       "      <td>70172</td>\n",
       "      <td>Male</td>\n",
       "      <td>Loyal Customer</td>\n",
       "      <td>13</td>\n",
       "      <td>Personal Travel</td>\n",
       "      <td>Eco Plus</td>\n",
       "      <td>460</td>\n",
       "      <td>3</td>\n",
       "      <td>4</td>\n",
       "      <td>...</td>\n",
       "      <td>5</td>\n",
       "      <td>4</td>\n",
       "      <td>3</td>\n",
       "      <td>4</td>\n",
       "      <td>4</td>\n",
       "      <td>5</td>\n",
       "      <td>5</td>\n",
       "      <td>25</td>\n",
       "      <td>18.0</td>\n",
       "      <td>neutral or dissatisfied</td>\n",
       "    </tr>\n",
       "    <tr>\n",
       "      <th>1</th>\n",
       "      <td>1</td>\n",
       "      <td>5047</td>\n",
       "      <td>Male</td>\n",
       "      <td>disloyal Customer</td>\n",
       "      <td>25</td>\n",
       "      <td>Business travel</td>\n",
       "      <td>Business</td>\n",
       "      <td>235</td>\n",
       "      <td>3</td>\n",
       "      <td>2</td>\n",
       "      <td>...</td>\n",
       "      <td>1</td>\n",
       "      <td>1</td>\n",
       "      <td>5</td>\n",
       "      <td>3</td>\n",
       "      <td>1</td>\n",
       "      <td>4</td>\n",
       "      <td>1</td>\n",
       "      <td>1</td>\n",
       "      <td>6.0</td>\n",
       "      <td>neutral or dissatisfied</td>\n",
       "    </tr>\n",
       "    <tr>\n",
       "      <th>2</th>\n",
       "      <td>2</td>\n",
       "      <td>110028</td>\n",
       "      <td>Female</td>\n",
       "      <td>Loyal Customer</td>\n",
       "      <td>26</td>\n",
       "      <td>Business travel</td>\n",
       "      <td>Business</td>\n",
       "      <td>1142</td>\n",
       "      <td>2</td>\n",
       "      <td>2</td>\n",
       "      <td>...</td>\n",
       "      <td>5</td>\n",
       "      <td>4</td>\n",
       "      <td>3</td>\n",
       "      <td>4</td>\n",
       "      <td>4</td>\n",
       "      <td>4</td>\n",
       "      <td>5</td>\n",
       "      <td>0</td>\n",
       "      <td>0.0</td>\n",
       "      <td>satisfied</td>\n",
       "    </tr>\n",
       "    <tr>\n",
       "      <th>3</th>\n",
       "      <td>3</td>\n",
       "      <td>24026</td>\n",
       "      <td>Female</td>\n",
       "      <td>Loyal Customer</td>\n",
       "      <td>25</td>\n",
       "      <td>Business travel</td>\n",
       "      <td>Business</td>\n",
       "      <td>562</td>\n",
       "      <td>2</td>\n",
       "      <td>5</td>\n",
       "      <td>...</td>\n",
       "      <td>2</td>\n",
       "      <td>2</td>\n",
       "      <td>5</td>\n",
       "      <td>3</td>\n",
       "      <td>1</td>\n",
       "      <td>4</td>\n",
       "      <td>2</td>\n",
       "      <td>11</td>\n",
       "      <td>9.0</td>\n",
       "      <td>neutral or dissatisfied</td>\n",
       "    </tr>\n",
       "    <tr>\n",
       "      <th>4</th>\n",
       "      <td>4</td>\n",
       "      <td>119299</td>\n",
       "      <td>Male</td>\n",
       "      <td>Loyal Customer</td>\n",
       "      <td>61</td>\n",
       "      <td>Business travel</td>\n",
       "      <td>Business</td>\n",
       "      <td>214</td>\n",
       "      <td>3</td>\n",
       "      <td>3</td>\n",
       "      <td>...</td>\n",
       "      <td>3</td>\n",
       "      <td>3</td>\n",
       "      <td>4</td>\n",
       "      <td>4</td>\n",
       "      <td>3</td>\n",
       "      <td>3</td>\n",
       "      <td>3</td>\n",
       "      <td>0</td>\n",
       "      <td>0.0</td>\n",
       "      <td>satisfied</td>\n",
       "    </tr>\n",
       "  </tbody>\n",
       "</table>\n",
       "<p>5 rows × 25 columns</p>\n",
       "</div>"
      ],
      "text/plain": [
       "   Unnamed: 0      id  Gender      Customer Type  Age   Type of Travel  \\\n",
       "0           0   70172    Male     Loyal Customer   13  Personal Travel   \n",
       "1           1    5047    Male  disloyal Customer   25  Business travel   \n",
       "2           2  110028  Female     Loyal Customer   26  Business travel   \n",
       "3           3   24026  Female     Loyal Customer   25  Business travel   \n",
       "4           4  119299    Male     Loyal Customer   61  Business travel   \n",
       "\n",
       "      Class  Flight Distance  Inflight wifi service  \\\n",
       "0  Eco Plus              460                      3   \n",
       "1  Business              235                      3   \n",
       "2  Business             1142                      2   \n",
       "3  Business              562                      2   \n",
       "4  Business              214                      3   \n",
       "\n",
       "   Departure/Arrival time convenient  ...  Inflight entertainment  \\\n",
       "0                                  4  ...                       5   \n",
       "1                                  2  ...                       1   \n",
       "2                                  2  ...                       5   \n",
       "3                                  5  ...                       2   \n",
       "4                                  3  ...                       3   \n",
       "\n",
       "   On-board service  Leg room service  Baggage handling  Checkin service  \\\n",
       "0                 4                 3                 4                4   \n",
       "1                 1                 5                 3                1   \n",
       "2                 4                 3                 4                4   \n",
       "3                 2                 5                 3                1   \n",
       "4                 3                 4                 4                3   \n",
       "\n",
       "   Inflight service  Cleanliness  Departure Delay in Minutes  \\\n",
       "0                 5            5                          25   \n",
       "1                 4            1                           1   \n",
       "2                 4            5                           0   \n",
       "3                 4            2                          11   \n",
       "4                 3            3                           0   \n",
       "\n",
       "   Arrival Delay in Minutes             satisfaction  \n",
       "0                      18.0  neutral or dissatisfied  \n",
       "1                       6.0  neutral or dissatisfied  \n",
       "2                       0.0                satisfied  \n",
       "3                       9.0  neutral or dissatisfied  \n",
       "4                       0.0                satisfied  \n",
       "\n",
       "[5 rows x 25 columns]"
      ]
     },
     "execution_count": 5,
     "metadata": {},
     "output_type": "execute_result"
    }
   ],
   "source": [
    "df=pd.concat([df_train,df_test],ignore_index=True)\n",
    "df.head()"
   ]
  },
  {
   "cell_type": "code",
   "execution_count": 6,
   "id": "0b30a6b9",
   "metadata": {
    "execution": {
     "iopub.execute_input": "2023-07-18T13:09:38.769582Z",
     "iopub.status.busy": "2023-07-18T13:09:38.769041Z",
     "iopub.status.idle": "2023-07-18T13:09:38.777422Z",
     "shell.execute_reply": "2023-07-18T13:09:38.775879Z"
    },
    "papermill": {
     "duration": 0.032896,
     "end_time": "2023-07-18T13:09:38.780037",
     "exception": false,
     "start_time": "2023-07-18T13:09:38.747141",
     "status": "completed"
    },
    "tags": []
   },
   "outputs": [
    {
     "data": {
      "text/plain": [
       "(129880, 25)"
      ]
     },
     "execution_count": 6,
     "metadata": {},
     "output_type": "execute_result"
    }
   ],
   "source": [
    "df.shape"
   ]
  },
  {
   "cell_type": "code",
   "execution_count": 7,
   "id": "329ed657",
   "metadata": {
    "execution": {
     "iopub.execute_input": "2023-07-18T13:09:38.822955Z",
     "iopub.status.busy": "2023-07-18T13:09:38.822141Z",
     "iopub.status.idle": "2023-07-18T13:09:39.045407Z",
     "shell.execute_reply": "2023-07-18T13:09:39.043793Z"
    },
    "papermill": {
     "duration": 0.250664,
     "end_time": "2023-07-18T13:09:39.050197",
     "exception": false,
     "start_time": "2023-07-18T13:09:38.799533",
     "status": "completed"
    },
    "tags": []
   },
   "outputs": [
    {
     "data": {
      "text/plain": [
       "Unnamed: 0                             0\n",
       "id                                     0\n",
       "Gender                                 0\n",
       "Customer Type                          0\n",
       "Age                                    0\n",
       "Type of Travel                         0\n",
       "Class                                  0\n",
       "Flight Distance                        0\n",
       "Inflight wifi service                  0\n",
       "Departure/Arrival time convenient      0\n",
       "Ease of Online booking                 0\n",
       "Gate location                          0\n",
       "Food and drink                         0\n",
       "Online boarding                        0\n",
       "Seat comfort                           0\n",
       "Inflight entertainment                 0\n",
       "On-board service                       0\n",
       "Leg room service                       0\n",
       "Baggage handling                       0\n",
       "Checkin service                        0\n",
       "Inflight service                       0\n",
       "Cleanliness                            0\n",
       "Departure Delay in Minutes             0\n",
       "Arrival Delay in Minutes             393\n",
       "satisfaction                           0\n",
       "dtype: int64"
      ]
     },
     "execution_count": 7,
     "metadata": {},
     "output_type": "execute_result"
    }
   ],
   "source": [
    "df.isna().sum()"
   ]
  },
  {
   "cell_type": "markdown",
   "id": "aca11e4b",
   "metadata": {
    "papermill": {
     "duration": 0.0212,
     "end_time": "2023-07-18T13:09:39.092254",
     "exception": false,
     "start_time": "2023-07-18T13:09:39.071054",
     "status": "completed"
    },
    "tags": []
   },
   "source": [
    "# removing missing values"
   ]
  },
  {
   "cell_type": "code",
   "execution_count": 8,
   "id": "55b6af58",
   "metadata": {
    "execution": {
     "iopub.execute_input": "2023-07-18T13:09:39.135017Z",
     "iopub.status.busy": "2023-07-18T13:09:39.134611Z",
     "iopub.status.idle": "2023-07-18T13:09:39.392064Z",
     "shell.execute_reply": "2023-07-18T13:09:39.390880Z"
    },
    "papermill": {
     "duration": 0.282356,
     "end_time": "2023-07-18T13:09:39.395328",
     "exception": false,
     "start_time": "2023-07-18T13:09:39.112972",
     "status": "completed"
    },
    "tags": []
   },
   "outputs": [],
   "source": [
    "df.dropna(axis=0,inplace=True)"
   ]
  },
  {
   "cell_type": "code",
   "execution_count": 9,
   "id": "ee287277",
   "metadata": {
    "execution": {
     "iopub.execute_input": "2023-07-18T13:09:39.436091Z",
     "iopub.status.busy": "2023-07-18T13:09:39.435688Z",
     "iopub.status.idle": "2023-07-18T13:09:39.653618Z",
     "shell.execute_reply": "2023-07-18T13:09:39.651964Z"
    },
    "papermill": {
     "duration": 0.242988,
     "end_time": "2023-07-18T13:09:39.657887",
     "exception": false,
     "start_time": "2023-07-18T13:09:39.414899",
     "status": "completed"
    },
    "tags": []
   },
   "outputs": [
    {
     "data": {
      "text/plain": [
       "0"
      ]
     },
     "execution_count": 9,
     "metadata": {},
     "output_type": "execute_result"
    }
   ],
   "source": [
    "df.isna().sum().sum()"
   ]
  },
  {
   "cell_type": "markdown",
   "id": "365243d2",
   "metadata": {
    "papermill": {
     "duration": 0.022664,
     "end_time": "2023-07-18T13:09:39.702607",
     "exception": false,
     "start_time": "2023-07-18T13:09:39.679943",
     "status": "completed"
    },
    "tags": []
   },
   "source": [
    "# drop unnecessary columns"
   ]
  },
  {
   "cell_type": "code",
   "execution_count": 10,
   "id": "6964f376",
   "metadata": {
    "execution": {
     "iopub.execute_input": "2023-07-18T13:09:39.752814Z",
     "iopub.status.busy": "2023-07-18T13:09:39.752302Z",
     "iopub.status.idle": "2023-07-18T13:09:39.782400Z",
     "shell.execute_reply": "2023-07-18T13:09:39.781105Z"
    },
    "papermill": {
     "duration": 0.059288,
     "end_time": "2023-07-18T13:09:39.785316",
     "exception": false,
     "start_time": "2023-07-18T13:09:39.726028",
     "status": "completed"
    },
    "tags": []
   },
   "outputs": [],
   "source": [
    "df.drop('Unnamed: 0',axis=1,inplace=True)"
   ]
  },
  {
   "cell_type": "code",
   "execution_count": 11,
   "id": "5010a24e",
   "metadata": {
    "execution": {
     "iopub.execute_input": "2023-07-18T13:09:39.826418Z",
     "iopub.status.busy": "2023-07-18T13:09:39.825871Z",
     "iopub.status.idle": "2023-07-18T13:09:40.065850Z",
     "shell.execute_reply": "2023-07-18T13:09:40.064510Z"
    },
    "papermill": {
     "duration": 0.263468,
     "end_time": "2023-07-18T13:09:40.068406",
     "exception": false,
     "start_time": "2023-07-18T13:09:39.804938",
     "status": "completed"
    },
    "tags": []
   },
   "outputs": [
    {
     "name": "stdout",
     "output_type": "stream",
     "text": [
      "<class 'pandas.core.frame.DataFrame'>\n",
      "Int64Index: 129487 entries, 0 to 129879\n",
      "Data columns (total 24 columns):\n",
      " #   Column                             Non-Null Count   Dtype  \n",
      "---  ------                             --------------   -----  \n",
      " 0   id                                 129487 non-null  int64  \n",
      " 1   Gender                             129487 non-null  object \n",
      " 2   Customer Type                      129487 non-null  object \n",
      " 3   Age                                129487 non-null  int64  \n",
      " 4   Type of Travel                     129487 non-null  object \n",
      " 5   Class                              129487 non-null  object \n",
      " 6   Flight Distance                    129487 non-null  int64  \n",
      " 7   Inflight wifi service              129487 non-null  int64  \n",
      " 8   Departure/Arrival time convenient  129487 non-null  int64  \n",
      " 9   Ease of Online booking             129487 non-null  int64  \n",
      " 10  Gate location                      129487 non-null  int64  \n",
      " 11  Food and drink                     129487 non-null  int64  \n",
      " 12  Online boarding                    129487 non-null  int64  \n",
      " 13  Seat comfort                       129487 non-null  int64  \n",
      " 14  Inflight entertainment             129487 non-null  int64  \n",
      " 15  On-board service                   129487 non-null  int64  \n",
      " 16  Leg room service                   129487 non-null  int64  \n",
      " 17  Baggage handling                   129487 non-null  int64  \n",
      " 18  Checkin service                    129487 non-null  int64  \n",
      " 19  Inflight service                   129487 non-null  int64  \n",
      " 20  Cleanliness                        129487 non-null  int64  \n",
      " 21  Departure Delay in Minutes         129487 non-null  int64  \n",
      " 22  Arrival Delay in Minutes           129487 non-null  float64\n",
      " 23  satisfaction                       129487 non-null  object \n",
      "dtypes: float64(1), int64(18), object(5)\n",
      "memory usage: 24.7+ MB\n"
     ]
    }
   ],
   "source": [
    "df.info()"
   ]
  },
  {
   "cell_type": "code",
   "execution_count": 12,
   "id": "509e7707",
   "metadata": {
    "execution": {
     "iopub.execute_input": "2023-07-18T13:09:40.111499Z",
     "iopub.status.busy": "2023-07-18T13:09:40.110722Z",
     "iopub.status.idle": "2023-07-18T13:09:40.136445Z",
     "shell.execute_reply": "2023-07-18T13:09:40.135201Z"
    },
    "papermill": {
     "duration": 0.050549,
     "end_time": "2023-07-18T13:09:40.139083",
     "exception": false,
     "start_time": "2023-07-18T13:09:40.088534",
     "status": "completed"
    },
    "tags": []
   },
   "outputs": [
    {
     "data": {
      "text/html": [
       "<div>\n",
       "<style scoped>\n",
       "    .dataframe tbody tr th:only-of-type {\n",
       "        vertical-align: middle;\n",
       "    }\n",
       "\n",
       "    .dataframe tbody tr th {\n",
       "        vertical-align: top;\n",
       "    }\n",
       "\n",
       "    .dataframe thead th {\n",
       "        text-align: right;\n",
       "    }\n",
       "</style>\n",
       "<table border=\"1\" class=\"dataframe\">\n",
       "  <thead>\n",
       "    <tr style=\"text-align: right;\">\n",
       "      <th></th>\n",
       "      <th>id</th>\n",
       "      <th>Gender</th>\n",
       "      <th>Customer Type</th>\n",
       "      <th>Age</th>\n",
       "      <th>Type of Travel</th>\n",
       "      <th>Class</th>\n",
       "      <th>Flight Distance</th>\n",
       "      <th>Inflight wifi service</th>\n",
       "      <th>Departure/Arrival time convenient</th>\n",
       "      <th>Ease of Online booking</th>\n",
       "      <th>...</th>\n",
       "      <th>Inflight entertainment</th>\n",
       "      <th>On-board service</th>\n",
       "      <th>Leg room service</th>\n",
       "      <th>Baggage handling</th>\n",
       "      <th>Checkin service</th>\n",
       "      <th>Inflight service</th>\n",
       "      <th>Cleanliness</th>\n",
       "      <th>Departure Delay in Minutes</th>\n",
       "      <th>Arrival Delay in Minutes</th>\n",
       "      <th>satisfaction</th>\n",
       "    </tr>\n",
       "  </thead>\n",
       "  <tbody>\n",
       "    <tr>\n",
       "      <th>0</th>\n",
       "      <td>70172</td>\n",
       "      <td>Male</td>\n",
       "      <td>Loyal Customer</td>\n",
       "      <td>13</td>\n",
       "      <td>Personal Travel</td>\n",
       "      <td>Eco Plus</td>\n",
       "      <td>460</td>\n",
       "      <td>3</td>\n",
       "      <td>4</td>\n",
       "      <td>3</td>\n",
       "      <td>...</td>\n",
       "      <td>5</td>\n",
       "      <td>4</td>\n",
       "      <td>3</td>\n",
       "      <td>4</td>\n",
       "      <td>4</td>\n",
       "      <td>5</td>\n",
       "      <td>5</td>\n",
       "      <td>25</td>\n",
       "      <td>18.0</td>\n",
       "      <td>neutral or dissatisfied</td>\n",
       "    </tr>\n",
       "    <tr>\n",
       "      <th>1</th>\n",
       "      <td>5047</td>\n",
       "      <td>Male</td>\n",
       "      <td>disloyal Customer</td>\n",
       "      <td>25</td>\n",
       "      <td>Business travel</td>\n",
       "      <td>Business</td>\n",
       "      <td>235</td>\n",
       "      <td>3</td>\n",
       "      <td>2</td>\n",
       "      <td>3</td>\n",
       "      <td>...</td>\n",
       "      <td>1</td>\n",
       "      <td>1</td>\n",
       "      <td>5</td>\n",
       "      <td>3</td>\n",
       "      <td>1</td>\n",
       "      <td>4</td>\n",
       "      <td>1</td>\n",
       "      <td>1</td>\n",
       "      <td>6.0</td>\n",
       "      <td>neutral or dissatisfied</td>\n",
       "    </tr>\n",
       "    <tr>\n",
       "      <th>2</th>\n",
       "      <td>110028</td>\n",
       "      <td>Female</td>\n",
       "      <td>Loyal Customer</td>\n",
       "      <td>26</td>\n",
       "      <td>Business travel</td>\n",
       "      <td>Business</td>\n",
       "      <td>1142</td>\n",
       "      <td>2</td>\n",
       "      <td>2</td>\n",
       "      <td>2</td>\n",
       "      <td>...</td>\n",
       "      <td>5</td>\n",
       "      <td>4</td>\n",
       "      <td>3</td>\n",
       "      <td>4</td>\n",
       "      <td>4</td>\n",
       "      <td>4</td>\n",
       "      <td>5</td>\n",
       "      <td>0</td>\n",
       "      <td>0.0</td>\n",
       "      <td>satisfied</td>\n",
       "    </tr>\n",
       "    <tr>\n",
       "      <th>3</th>\n",
       "      <td>24026</td>\n",
       "      <td>Female</td>\n",
       "      <td>Loyal Customer</td>\n",
       "      <td>25</td>\n",
       "      <td>Business travel</td>\n",
       "      <td>Business</td>\n",
       "      <td>562</td>\n",
       "      <td>2</td>\n",
       "      <td>5</td>\n",
       "      <td>5</td>\n",
       "      <td>...</td>\n",
       "      <td>2</td>\n",
       "      <td>2</td>\n",
       "      <td>5</td>\n",
       "      <td>3</td>\n",
       "      <td>1</td>\n",
       "      <td>4</td>\n",
       "      <td>2</td>\n",
       "      <td>11</td>\n",
       "      <td>9.0</td>\n",
       "      <td>neutral or dissatisfied</td>\n",
       "    </tr>\n",
       "    <tr>\n",
       "      <th>4</th>\n",
       "      <td>119299</td>\n",
       "      <td>Male</td>\n",
       "      <td>Loyal Customer</td>\n",
       "      <td>61</td>\n",
       "      <td>Business travel</td>\n",
       "      <td>Business</td>\n",
       "      <td>214</td>\n",
       "      <td>3</td>\n",
       "      <td>3</td>\n",
       "      <td>3</td>\n",
       "      <td>...</td>\n",
       "      <td>3</td>\n",
       "      <td>3</td>\n",
       "      <td>4</td>\n",
       "      <td>4</td>\n",
       "      <td>3</td>\n",
       "      <td>3</td>\n",
       "      <td>3</td>\n",
       "      <td>0</td>\n",
       "      <td>0.0</td>\n",
       "      <td>satisfied</td>\n",
       "    </tr>\n",
       "  </tbody>\n",
       "</table>\n",
       "<p>5 rows × 24 columns</p>\n",
       "</div>"
      ],
      "text/plain": [
       "       id  Gender      Customer Type  Age   Type of Travel     Class  \\\n",
       "0   70172    Male     Loyal Customer   13  Personal Travel  Eco Plus   \n",
       "1    5047    Male  disloyal Customer   25  Business travel  Business   \n",
       "2  110028  Female     Loyal Customer   26  Business travel  Business   \n",
       "3   24026  Female     Loyal Customer   25  Business travel  Business   \n",
       "4  119299    Male     Loyal Customer   61  Business travel  Business   \n",
       "\n",
       "   Flight Distance  Inflight wifi service  Departure/Arrival time convenient  \\\n",
       "0              460                      3                                  4   \n",
       "1              235                      3                                  2   \n",
       "2             1142                      2                                  2   \n",
       "3              562                      2                                  5   \n",
       "4              214                      3                                  3   \n",
       "\n",
       "   Ease of Online booking  ...  Inflight entertainment  On-board service  \\\n",
       "0                       3  ...                       5                 4   \n",
       "1                       3  ...                       1                 1   \n",
       "2                       2  ...                       5                 4   \n",
       "3                       5  ...                       2                 2   \n",
       "4                       3  ...                       3                 3   \n",
       "\n",
       "   Leg room service  Baggage handling  Checkin service  Inflight service  \\\n",
       "0                 3                 4                4                 5   \n",
       "1                 5                 3                1                 4   \n",
       "2                 3                 4                4                 4   \n",
       "3                 5                 3                1                 4   \n",
       "4                 4                 4                3                 3   \n",
       "\n",
       "   Cleanliness  Departure Delay in Minutes  Arrival Delay in Minutes  \\\n",
       "0            5                          25                      18.0   \n",
       "1            1                           1                       6.0   \n",
       "2            5                           0                       0.0   \n",
       "3            2                          11                       9.0   \n",
       "4            3                           0                       0.0   \n",
       "\n",
       "              satisfaction  \n",
       "0  neutral or dissatisfied  \n",
       "1  neutral or dissatisfied  \n",
       "2                satisfied  \n",
       "3  neutral or dissatisfied  \n",
       "4                satisfied  \n",
       "\n",
       "[5 rows x 24 columns]"
      ]
     },
     "execution_count": 12,
     "metadata": {},
     "output_type": "execute_result"
    }
   ],
   "source": [
    "df.head()"
   ]
  },
  {
   "cell_type": "code",
   "execution_count": 13,
   "id": "dfdfaecc",
   "metadata": {
    "execution": {
     "iopub.execute_input": "2023-07-18T13:09:40.182334Z",
     "iopub.status.busy": "2023-07-18T13:09:40.181827Z",
     "iopub.status.idle": "2023-07-18T13:09:40.215484Z",
     "shell.execute_reply": "2023-07-18T13:09:40.213779Z"
    },
    "papermill": {
     "duration": 0.058969,
     "end_time": "2023-07-18T13:09:40.218004",
     "exception": false,
     "start_time": "2023-07-18T13:09:40.159035",
     "status": "completed"
    },
    "tags": []
   },
   "outputs": [
    {
     "data": {
      "text/plain": [
       "neutral or dissatisfied    0.565501\n",
       "satisfied                  0.434499\n",
       "Name: satisfaction, dtype: float64"
      ]
     },
     "execution_count": 13,
     "metadata": {},
     "output_type": "execute_result"
    }
   ],
   "source": [
    "df['satisfaction'].value_counts(normalize=True)"
   ]
  },
  {
   "cell_type": "markdown",
   "id": "7bcfc9d8",
   "metadata": {
    "papermill": {
     "duration": 0.020358,
     "end_time": "2023-07-18T13:09:40.259013",
     "exception": false,
     "start_time": "2023-07-18T13:09:40.238655",
     "status": "completed"
    },
    "tags": []
   },
   "source": [
    "# save the data after preprocessing to analyse in power bi"
   ]
  },
  {
   "cell_type": "code",
   "execution_count": 14,
   "id": "fc67a9b2",
   "metadata": {
    "execution": {
     "iopub.execute_input": "2023-07-18T13:09:40.302138Z",
     "iopub.status.busy": "2023-07-18T13:09:40.301225Z",
     "iopub.status.idle": "2023-07-18T13:09:41.904996Z",
     "shell.execute_reply": "2023-07-18T13:09:41.903681Z"
    },
    "papermill": {
     "duration": 1.629039,
     "end_time": "2023-07-18T13:09:41.908241",
     "exception": false,
     "start_time": "2023-07-18T13:09:40.279202",
     "status": "completed"
    },
    "tags": []
   },
   "outputs": [],
   "source": [
    "df.to_csv('airline_satisfication.csv',index=False)"
   ]
  },
  {
   "cell_type": "code",
   "execution_count": 15,
   "id": "567a4aed",
   "metadata": {
    "execution": {
     "iopub.execute_input": "2023-07-18T13:09:41.952892Z",
     "iopub.status.busy": "2023-07-18T13:09:41.952338Z",
     "iopub.status.idle": "2023-07-18T13:09:41.980163Z",
     "shell.execute_reply": "2023-07-18T13:09:41.978897Z"
    },
    "papermill": {
     "duration": 0.053968,
     "end_time": "2023-07-18T13:09:41.983480",
     "exception": false,
     "start_time": "2023-07-18T13:09:41.929512",
     "status": "completed"
    },
    "tags": []
   },
   "outputs": [],
   "source": [
    "df.drop('id',axis=1,inplace=True)"
   ]
  },
  {
   "cell_type": "markdown",
   "id": "7a3def88",
   "metadata": {
    "papermill": {
     "duration": 0.020566,
     "end_time": "2023-07-18T13:09:42.025195",
     "exception": false,
     "start_time": "2023-07-18T13:09:42.004629",
     "status": "completed"
    },
    "tags": []
   },
   "source": [
    "# converting satisfaction column to numerical for prediction"
   ]
  },
  {
   "cell_type": "code",
   "execution_count": 16,
   "id": "ecc80822",
   "metadata": {
    "execution": {
     "iopub.execute_input": "2023-07-18T13:09:42.070710Z",
     "iopub.status.busy": "2023-07-18T13:09:42.069813Z",
     "iopub.status.idle": "2023-07-18T13:09:42.454140Z",
     "shell.execute_reply": "2023-07-18T13:09:42.452864Z"
    },
    "papermill": {
     "duration": 0.410191,
     "end_time": "2023-07-18T13:09:42.457224",
     "exception": false,
     "start_time": "2023-07-18T13:09:42.047033",
     "status": "completed"
    },
    "tags": []
   },
   "outputs": [],
   "source": [
    "df.replace({'satisfied':1,'neutral or dissatisfied':0},inplace=True)"
   ]
  },
  {
   "cell_type": "code",
   "execution_count": 17,
   "id": "a9ccd8d3",
   "metadata": {
    "execution": {
     "iopub.execute_input": "2023-07-18T13:09:42.500524Z",
     "iopub.status.busy": "2023-07-18T13:09:42.499988Z",
     "iopub.status.idle": "2023-07-18T13:09:42.512735Z",
     "shell.execute_reply": "2023-07-18T13:09:42.511514Z"
    },
    "papermill": {
     "duration": 0.037158,
     "end_time": "2023-07-18T13:09:42.515151",
     "exception": false,
     "start_time": "2023-07-18T13:09:42.477993",
     "status": "completed"
    },
    "tags": []
   },
   "outputs": [
    {
     "data": {
      "text/plain": [
       "0    0.565501\n",
       "1    0.434499\n",
       "Name: satisfaction, dtype: float64"
      ]
     },
     "execution_count": 17,
     "metadata": {},
     "output_type": "execute_result"
    }
   ],
   "source": [
    "df['satisfaction'].value_counts(normalize=True)"
   ]
  },
  {
   "cell_type": "markdown",
   "id": "721ea132",
   "metadata": {
    "papermill": {
     "duration": 0.02024,
     "end_time": "2023-07-18T13:09:42.555754",
     "exception": false,
     "start_time": "2023-07-18T13:09:42.535514",
     "status": "completed"
    },
    "tags": []
   },
   "source": [
    "# converting categorical columns to numerical"
   ]
  },
  {
   "cell_type": "code",
   "execution_count": 18,
   "id": "47cdb405",
   "metadata": {
    "execution": {
     "iopub.execute_input": "2023-07-18T13:09:42.600959Z",
     "iopub.status.busy": "2023-07-18T13:09:42.600140Z",
     "iopub.status.idle": "2023-07-18T13:09:42.937709Z",
     "shell.execute_reply": "2023-07-18T13:09:42.936437Z"
    },
    "papermill": {
     "duration": 0.364066,
     "end_time": "2023-07-18T13:09:42.940998",
     "exception": false,
     "start_time": "2023-07-18T13:09:42.576932",
     "status": "completed"
    },
    "tags": []
   },
   "outputs": [],
   "source": [
    "from sklearn.preprocessing import LabelEncoder\n",
    "# Create a LabelEncoder object\n",
    "le = LabelEncoder()\n",
    "\n",
    "# Encode the Gender column\n",
    "df['Gender'] = le.fit_transform(df['Gender'])\n",
    "\n",
    "# Encode the Customer Type column\n",
    "df['Customer Type'] = le.fit_transform(df['Customer Type'])\n",
    "\n",
    "# Encode the Type of Travel column\n",
    "df['Type of Travel'] = le.fit_transform(df['Type of Travel'])\n",
    "\n",
    "# Encode the Class column\n",
    "df['Class'] = le.fit_transform(df['Class'])"
   ]
  },
  {
   "cell_type": "markdown",
   "id": "e1b6ec38",
   "metadata": {
    "papermill": {
     "duration": 0.02058,
     "end_time": "2023-07-18T13:09:42.982447",
     "exception": false,
     "start_time": "2023-07-18T13:09:42.961867",
     "status": "completed"
    },
    "tags": []
   },
   "source": [
    "# splitting the data to X,y to predict y"
   ]
  },
  {
   "cell_type": "code",
   "execution_count": 19,
   "id": "d3483375",
   "metadata": {
    "execution": {
     "iopub.execute_input": "2023-07-18T13:09:43.027218Z",
     "iopub.status.busy": "2023-07-18T13:09:43.026604Z",
     "iopub.status.idle": "2023-07-18T13:09:43.039515Z",
     "shell.execute_reply": "2023-07-18T13:09:43.037870Z"
    },
    "papermill": {
     "duration": 0.038773,
     "end_time": "2023-07-18T13:09:43.042674",
     "exception": false,
     "start_time": "2023-07-18T13:09:43.003901",
     "status": "completed"
    },
    "tags": []
   },
   "outputs": [],
   "source": [
    "X=df.drop('satisfaction',axis=1)\n",
    "y=df['satisfaction']"
   ]
  },
  {
   "cell_type": "markdown",
   "id": "34de3c26",
   "metadata": {
    "papermill": {
     "duration": 0.021967,
     "end_time": "2023-07-18T13:09:43.085529",
     "exception": false,
     "start_time": "2023-07-18T13:09:43.063562",
     "status": "completed"
    },
    "tags": []
   },
   "source": [
    "# splitting the data to train and test"
   ]
  },
  {
   "cell_type": "code",
   "execution_count": 20,
   "id": "a538ec53",
   "metadata": {
    "execution": {
     "iopub.execute_input": "2023-07-18T13:09:43.130203Z",
     "iopub.status.busy": "2023-07-18T13:09:43.129777Z",
     "iopub.status.idle": "2023-07-18T13:09:43.298959Z",
     "shell.execute_reply": "2023-07-18T13:09:43.297794Z"
    },
    "papermill": {
     "duration": 0.194952,
     "end_time": "2023-07-18T13:09:43.302190",
     "exception": false,
     "start_time": "2023-07-18T13:09:43.107238",
     "status": "completed"
    },
    "tags": []
   },
   "outputs": [],
   "source": [
    "from sklearn.model_selection import train_test_split\n",
    "X_train,X_test,y_train,y_test=train_test_split(X,y,test_size=.2,random_state=42)"
   ]
  },
  {
   "cell_type": "code",
   "execution_count": 21,
   "id": "a0e91103",
   "metadata": {
    "execution": {
     "iopub.execute_input": "2023-07-18T13:09:43.347088Z",
     "iopub.status.busy": "2023-07-18T13:09:43.346674Z",
     "iopub.status.idle": "2023-07-18T13:09:43.390913Z",
     "shell.execute_reply": "2023-07-18T13:09:43.390057Z"
    },
    "papermill": {
     "duration": 0.069854,
     "end_time": "2023-07-18T13:09:43.393897",
     "exception": false,
     "start_time": "2023-07-18T13:09:43.324043",
     "status": "completed"
    },
    "tags": []
   },
   "outputs": [
    {
     "data": {
      "text/html": [
       "<div>\n",
       "<style scoped>\n",
       "    .dataframe tbody tr th:only-of-type {\n",
       "        vertical-align: middle;\n",
       "    }\n",
       "\n",
       "    .dataframe tbody tr th {\n",
       "        vertical-align: top;\n",
       "    }\n",
       "\n",
       "    .dataframe thead th {\n",
       "        text-align: right;\n",
       "    }\n",
       "</style>\n",
       "<table border=\"1\" class=\"dataframe\">\n",
       "  <thead>\n",
       "    <tr style=\"text-align: right;\">\n",
       "      <th></th>\n",
       "      <th>Gender</th>\n",
       "      <th>Customer Type</th>\n",
       "      <th>Age</th>\n",
       "      <th>Type of Travel</th>\n",
       "      <th>Class</th>\n",
       "      <th>Flight Distance</th>\n",
       "      <th>Inflight wifi service</th>\n",
       "      <th>Departure/Arrival time convenient</th>\n",
       "      <th>Ease of Online booking</th>\n",
       "      <th>Gate location</th>\n",
       "      <th>...</th>\n",
       "      <th>Seat comfort</th>\n",
       "      <th>Inflight entertainment</th>\n",
       "      <th>On-board service</th>\n",
       "      <th>Leg room service</th>\n",
       "      <th>Baggage handling</th>\n",
       "      <th>Checkin service</th>\n",
       "      <th>Inflight service</th>\n",
       "      <th>Cleanliness</th>\n",
       "      <th>Departure Delay in Minutes</th>\n",
       "      <th>Arrival Delay in Minutes</th>\n",
       "    </tr>\n",
       "  </thead>\n",
       "  <tbody>\n",
       "    <tr>\n",
       "      <th>59612</th>\n",
       "      <td>0</td>\n",
       "      <td>1</td>\n",
       "      <td>42</td>\n",
       "      <td>0</td>\n",
       "      <td>1</td>\n",
       "      <td>447</td>\n",
       "      <td>2</td>\n",
       "      <td>3</td>\n",
       "      <td>2</td>\n",
       "      <td>4</td>\n",
       "      <td>...</td>\n",
       "      <td>3</td>\n",
       "      <td>3</td>\n",
       "      <td>4</td>\n",
       "      <td>4</td>\n",
       "      <td>3</td>\n",
       "      <td>1</td>\n",
       "      <td>4</td>\n",
       "      <td>3</td>\n",
       "      <td>0</td>\n",
       "      <td>6.0</td>\n",
       "    </tr>\n",
       "    <tr>\n",
       "      <th>120795</th>\n",
       "      <td>1</td>\n",
       "      <td>1</td>\n",
       "      <td>25</td>\n",
       "      <td>0</td>\n",
       "      <td>1</td>\n",
       "      <td>1605</td>\n",
       "      <td>2</td>\n",
       "      <td>2</td>\n",
       "      <td>2</td>\n",
       "      <td>2</td>\n",
       "      <td>...</td>\n",
       "      <td>5</td>\n",
       "      <td>5</td>\n",
       "      <td>3</td>\n",
       "      <td>4</td>\n",
       "      <td>2</td>\n",
       "      <td>4</td>\n",
       "      <td>3</td>\n",
       "      <td>5</td>\n",
       "      <td>23</td>\n",
       "      <td>5.0</td>\n",
       "    </tr>\n",
       "    <tr>\n",
       "      <th>80948</th>\n",
       "      <td>0</td>\n",
       "      <td>0</td>\n",
       "      <td>36</td>\n",
       "      <td>0</td>\n",
       "      <td>0</td>\n",
       "      <td>782</td>\n",
       "      <td>4</td>\n",
       "      <td>4</td>\n",
       "      <td>4</td>\n",
       "      <td>4</td>\n",
       "      <td>...</td>\n",
       "      <td>5</td>\n",
       "      <td>4</td>\n",
       "      <td>4</td>\n",
       "      <td>5</td>\n",
       "      <td>4</td>\n",
       "      <td>1</td>\n",
       "      <td>4</td>\n",
       "      <td>4</td>\n",
       "      <td>0</td>\n",
       "      <td>0.0</td>\n",
       "    </tr>\n",
       "    <tr>\n",
       "      <th>48037</th>\n",
       "      <td>1</td>\n",
       "      <td>0</td>\n",
       "      <td>42</td>\n",
       "      <td>1</td>\n",
       "      <td>2</td>\n",
       "      <td>1107</td>\n",
       "      <td>3</td>\n",
       "      <td>1</td>\n",
       "      <td>3</td>\n",
       "      <td>1</td>\n",
       "      <td>...</td>\n",
       "      <td>1</td>\n",
       "      <td>1</td>\n",
       "      <td>1</td>\n",
       "      <td>4</td>\n",
       "      <td>2</td>\n",
       "      <td>3</td>\n",
       "      <td>1</td>\n",
       "      <td>1</td>\n",
       "      <td>0</td>\n",
       "      <td>0.0</td>\n",
       "    </tr>\n",
       "    <tr>\n",
       "      <th>53463</th>\n",
       "      <td>0</td>\n",
       "      <td>0</td>\n",
       "      <td>35</td>\n",
       "      <td>0</td>\n",
       "      <td>2</td>\n",
       "      <td>158</td>\n",
       "      <td>3</td>\n",
       "      <td>4</td>\n",
       "      <td>4</td>\n",
       "      <td>4</td>\n",
       "      <td>...</td>\n",
       "      <td>3</td>\n",
       "      <td>3</td>\n",
       "      <td>4</td>\n",
       "      <td>2</td>\n",
       "      <td>4</td>\n",
       "      <td>3</td>\n",
       "      <td>4</td>\n",
       "      <td>3</td>\n",
       "      <td>39</td>\n",
       "      <td>32.0</td>\n",
       "    </tr>\n",
       "    <tr>\n",
       "      <th>...</th>\n",
       "      <td>...</td>\n",
       "      <td>...</td>\n",
       "      <td>...</td>\n",
       "      <td>...</td>\n",
       "      <td>...</td>\n",
       "      <td>...</td>\n",
       "      <td>...</td>\n",
       "      <td>...</td>\n",
       "      <td>...</td>\n",
       "      <td>...</td>\n",
       "      <td>...</td>\n",
       "      <td>...</td>\n",
       "      <td>...</td>\n",
       "      <td>...</td>\n",
       "      <td>...</td>\n",
       "      <td>...</td>\n",
       "      <td>...</td>\n",
       "      <td>...</td>\n",
       "      <td>...</td>\n",
       "      <td>...</td>\n",
       "      <td>...</td>\n",
       "    </tr>\n",
       "    <tr>\n",
       "      <th>128497</th>\n",
       "      <td>1</td>\n",
       "      <td>0</td>\n",
       "      <td>60</td>\n",
       "      <td>0</td>\n",
       "      <td>0</td>\n",
       "      <td>293</td>\n",
       "      <td>5</td>\n",
       "      <td>5</td>\n",
       "      <td>5</td>\n",
       "      <td>5</td>\n",
       "      <td>...</td>\n",
       "      <td>4</td>\n",
       "      <td>5</td>\n",
       "      <td>5</td>\n",
       "      <td>5</td>\n",
       "      <td>5</td>\n",
       "      <td>4</td>\n",
       "      <td>5</td>\n",
       "      <td>5</td>\n",
       "      <td>9</td>\n",
       "      <td>9.0</td>\n",
       "    </tr>\n",
       "    <tr>\n",
       "      <th>104004</th>\n",
       "      <td>0</td>\n",
       "      <td>1</td>\n",
       "      <td>36</td>\n",
       "      <td>0</td>\n",
       "      <td>1</td>\n",
       "      <td>1061</td>\n",
       "      <td>2</td>\n",
       "      <td>2</td>\n",
       "      <td>2</td>\n",
       "      <td>1</td>\n",
       "      <td>...</td>\n",
       "      <td>4</td>\n",
       "      <td>4</td>\n",
       "      <td>1</td>\n",
       "      <td>4</td>\n",
       "      <td>2</td>\n",
       "      <td>4</td>\n",
       "      <td>2</td>\n",
       "      <td>4</td>\n",
       "      <td>13</td>\n",
       "      <td>0.0</td>\n",
       "    </tr>\n",
       "    <tr>\n",
       "      <th>861</th>\n",
       "      <td>0</td>\n",
       "      <td>0</td>\n",
       "      <td>24</td>\n",
       "      <td>0</td>\n",
       "      <td>0</td>\n",
       "      <td>1013</td>\n",
       "      <td>3</td>\n",
       "      <td>3</td>\n",
       "      <td>3</td>\n",
       "      <td>3</td>\n",
       "      <td>...</td>\n",
       "      <td>3</td>\n",
       "      <td>3</td>\n",
       "      <td>1</td>\n",
       "      <td>1</td>\n",
       "      <td>2</td>\n",
       "      <td>2</td>\n",
       "      <td>2</td>\n",
       "      <td>3</td>\n",
       "      <td>25</td>\n",
       "      <td>13.0</td>\n",
       "    </tr>\n",
       "    <tr>\n",
       "      <th>15832</th>\n",
       "      <td>0</td>\n",
       "      <td>0</td>\n",
       "      <td>52</td>\n",
       "      <td>0</td>\n",
       "      <td>1</td>\n",
       "      <td>458</td>\n",
       "      <td>5</td>\n",
       "      <td>2</td>\n",
       "      <td>5</td>\n",
       "      <td>2</td>\n",
       "      <td>...</td>\n",
       "      <td>3</td>\n",
       "      <td>5</td>\n",
       "      <td>5</td>\n",
       "      <td>5</td>\n",
       "      <td>5</td>\n",
       "      <td>4</td>\n",
       "      <td>5</td>\n",
       "      <td>2</td>\n",
       "      <td>0</td>\n",
       "      <td>0.0</td>\n",
       "    </tr>\n",
       "    <tr>\n",
       "      <th>122328</th>\n",
       "      <td>1</td>\n",
       "      <td>0</td>\n",
       "      <td>19</td>\n",
       "      <td>1</td>\n",
       "      <td>1</td>\n",
       "      <td>253</td>\n",
       "      <td>0</td>\n",
       "      <td>4</td>\n",
       "      <td>0</td>\n",
       "      <td>3</td>\n",
       "      <td>...</td>\n",
       "      <td>2</td>\n",
       "      <td>2</td>\n",
       "      <td>3</td>\n",
       "      <td>1</td>\n",
       "      <td>4</td>\n",
       "      <td>2</td>\n",
       "      <td>3</td>\n",
       "      <td>2</td>\n",
       "      <td>0</td>\n",
       "      <td>0.0</td>\n",
       "    </tr>\n",
       "  </tbody>\n",
       "</table>\n",
       "<p>103589 rows × 22 columns</p>\n",
       "</div>"
      ],
      "text/plain": [
       "        Gender  Customer Type  Age  Type of Travel  Class  Flight Distance  \\\n",
       "59612        0              1   42               0      1              447   \n",
       "120795       1              1   25               0      1             1605   \n",
       "80948        0              0   36               0      0              782   \n",
       "48037        1              0   42               1      2             1107   \n",
       "53463        0              0   35               0      2              158   \n",
       "...        ...            ...  ...             ...    ...              ...   \n",
       "128497       1              0   60               0      0              293   \n",
       "104004       0              1   36               0      1             1061   \n",
       "861          0              0   24               0      0             1013   \n",
       "15832        0              0   52               0      1              458   \n",
       "122328       1              0   19               1      1              253   \n",
       "\n",
       "        Inflight wifi service  Departure/Arrival time convenient  \\\n",
       "59612                       2                                  3   \n",
       "120795                      2                                  2   \n",
       "80948                       4                                  4   \n",
       "48037                       3                                  1   \n",
       "53463                       3                                  4   \n",
       "...                       ...                                ...   \n",
       "128497                      5                                  5   \n",
       "104004                      2                                  2   \n",
       "861                         3                                  3   \n",
       "15832                       5                                  2   \n",
       "122328                      0                                  4   \n",
       "\n",
       "        Ease of Online booking  Gate location  ...  Seat comfort  \\\n",
       "59612                        2              4  ...             3   \n",
       "120795                       2              2  ...             5   \n",
       "80948                        4              4  ...             5   \n",
       "48037                        3              1  ...             1   \n",
       "53463                        4              4  ...             3   \n",
       "...                        ...            ...  ...           ...   \n",
       "128497                       5              5  ...             4   \n",
       "104004                       2              1  ...             4   \n",
       "861                          3              3  ...             3   \n",
       "15832                        5              2  ...             3   \n",
       "122328                       0              3  ...             2   \n",
       "\n",
       "        Inflight entertainment  On-board service  Leg room service  \\\n",
       "59612                        3                 4                 4   \n",
       "120795                       5                 3                 4   \n",
       "80948                        4                 4                 5   \n",
       "48037                        1                 1                 4   \n",
       "53463                        3                 4                 2   \n",
       "...                        ...               ...               ...   \n",
       "128497                       5                 5                 5   \n",
       "104004                       4                 1                 4   \n",
       "861                          3                 1                 1   \n",
       "15832                        5                 5                 5   \n",
       "122328                       2                 3                 1   \n",
       "\n",
       "        Baggage handling  Checkin service  Inflight service  Cleanliness  \\\n",
       "59612                  3                1                 4            3   \n",
       "120795                 2                4                 3            5   \n",
       "80948                  4                1                 4            4   \n",
       "48037                  2                3                 1            1   \n",
       "53463                  4                3                 4            3   \n",
       "...                  ...              ...               ...          ...   \n",
       "128497                 5                4                 5            5   \n",
       "104004                 2                4                 2            4   \n",
       "861                    2                2                 2            3   \n",
       "15832                  5                4                 5            2   \n",
       "122328                 4                2                 3            2   \n",
       "\n",
       "        Departure Delay in Minutes  Arrival Delay in Minutes  \n",
       "59612                            0                       6.0  \n",
       "120795                          23                       5.0  \n",
       "80948                            0                       0.0  \n",
       "48037                            0                       0.0  \n",
       "53463                           39                      32.0  \n",
       "...                            ...                       ...  \n",
       "128497                           9                       9.0  \n",
       "104004                          13                       0.0  \n",
       "861                             25                      13.0  \n",
       "15832                            0                       0.0  \n",
       "122328                           0                       0.0  \n",
       "\n",
       "[103589 rows x 22 columns]"
      ]
     },
     "execution_count": 21,
     "metadata": {},
     "output_type": "execute_result"
    }
   ],
   "source": [
    "X_train"
   ]
  },
  {
   "cell_type": "code",
   "execution_count": 22,
   "id": "95af378b",
   "metadata": {
    "execution": {
     "iopub.execute_input": "2023-07-18T13:09:43.439609Z",
     "iopub.status.busy": "2023-07-18T13:09:43.438907Z",
     "iopub.status.idle": "2023-07-18T13:09:43.445370Z",
     "shell.execute_reply": "2023-07-18T13:09:43.444556Z"
    },
    "papermill": {
     "duration": 0.032142,
     "end_time": "2023-07-18T13:09:43.447760",
     "exception": false,
     "start_time": "2023-07-18T13:09:43.415618",
     "status": "completed"
    },
    "tags": []
   },
   "outputs": [
    {
     "data": {
      "text/plain": [
       "(103589, 22)"
      ]
     },
     "execution_count": 22,
     "metadata": {},
     "output_type": "execute_result"
    }
   ],
   "source": [
    "X_train.shape"
   ]
  },
  {
   "cell_type": "code",
   "execution_count": 23,
   "id": "4747785f",
   "metadata": {
    "execution": {
     "iopub.execute_input": "2023-07-18T13:09:43.493711Z",
     "iopub.status.busy": "2023-07-18T13:09:43.493235Z",
     "iopub.status.idle": "2023-07-18T13:09:43.503280Z",
     "shell.execute_reply": "2023-07-18T13:09:43.501802Z"
    },
    "papermill": {
     "duration": 0.03636,
     "end_time": "2023-07-18T13:09:43.506062",
     "exception": false,
     "start_time": "2023-07-18T13:09:43.469702",
     "status": "completed"
    },
    "tags": []
   },
   "outputs": [
    {
     "data": {
      "text/plain": [
       "(25898, 22)"
      ]
     },
     "execution_count": 23,
     "metadata": {},
     "output_type": "execute_result"
    }
   ],
   "source": [
    "X_test.shape"
   ]
  },
  {
   "cell_type": "code",
   "execution_count": 24,
   "id": "f86476bf",
   "metadata": {
    "execution": {
     "iopub.execute_input": "2023-07-18T13:09:43.551431Z",
     "iopub.status.busy": "2023-07-18T13:09:43.550941Z",
     "iopub.status.idle": "2023-07-18T13:09:44.134081Z",
     "shell.execute_reply": "2023-07-18T13:09:44.132492Z"
    },
    "papermill": {
     "duration": 0.609226,
     "end_time": "2023-07-18T13:09:44.136968",
     "exception": false,
     "start_time": "2023-07-18T13:09:43.527742",
     "status": "completed"
    },
    "tags": []
   },
   "outputs": [],
   "source": [
    "from sklearn.ensemble import RandomForestClassifier,GradientBoostingClassifier\n",
    "import xgboost as xgb\n",
    "from sklearn.tree import DecisionTreeClassifier\n",
    "from sklearn.metrics import confusion_matrix,classification_report,auc,roc_curve,f1_score,accuracy_score"
   ]
  },
  {
   "cell_type": "markdown",
   "id": "cb71a155",
   "metadata": {
    "papermill": {
     "duration": 0.020932,
     "end_time": "2023-07-18T13:09:44.181482",
     "exception": false,
     "start_time": "2023-07-18T13:09:44.160550",
     "status": "completed"
    },
    "tags": []
   },
   "source": [
    "# using random forest classifier to train and evaluate test data and calculate the accuracy"
   ]
  },
  {
   "cell_type": "code",
   "execution_count": 25,
   "id": "ea7e7668",
   "metadata": {
    "execution": {
     "iopub.execute_input": "2023-07-18T13:09:44.227232Z",
     "iopub.status.busy": "2023-07-18T13:09:44.226733Z",
     "iopub.status.idle": "2023-07-18T13:10:03.295226Z",
     "shell.execute_reply": "2023-07-18T13:10:03.293752Z"
    },
    "papermill": {
     "duration": 19.095306,
     "end_time": "2023-07-18T13:10:03.298363",
     "exception": false,
     "start_time": "2023-07-18T13:09:44.203057",
     "status": "completed"
    },
    "tags": []
   },
   "outputs": [
    {
     "name": "stdout",
     "output_type": "stream",
     "text": [
      "Accuracy: 0.9622364661363811\n"
     ]
    }
   ],
   "source": [
    "rfr=RandomForestClassifier(n_estimators=100)\n",
    "rfr.fit(X_train,y_train)\n",
    "y_pred = rfr.predict(X_test)\n",
    "accuracy=accuracy_score(y_test,y_pred)\n",
    "print(\"Accuracy:\", accuracy)"
   ]
  },
  {
   "cell_type": "markdown",
   "id": "74c86257",
   "metadata": {
    "papermill": {
     "duration": 0.02179,
     "end_time": "2023-07-18T13:10:03.342601",
     "exception": false,
     "start_time": "2023-07-18T13:10:03.320811",
     "status": "completed"
    },
    "tags": []
   },
   "source": [
    "# Generate confusion matrix to calculate precision,recall and f1_score for random forest\n"
   ]
  },
  {
   "cell_type": "code",
   "execution_count": 26,
   "id": "c8fc5e6d",
   "metadata": {
    "execution": {
     "iopub.execute_input": "2023-07-18T13:10:03.389842Z",
     "iopub.status.busy": "2023-07-18T13:10:03.389048Z",
     "iopub.status.idle": "2023-07-18T13:10:03.743320Z",
     "shell.execute_reply": "2023-07-18T13:10:03.741692Z"
    },
    "papermill": {
     "duration": 0.381206,
     "end_time": "2023-07-18T13:10:03.746177",
     "exception": false,
     "start_time": "2023-07-18T13:10:03.364971",
     "status": "completed"
    },
    "tags": []
   },
   "outputs": [
    {
     "data": {
      "image/png": "[encoded data removed]",
      "text/plain": [
       "<Figure size 640x480 with 2 Axes>"
      ]
     },
     "metadata": {},
     "output_type": "display_data"
    }
   ],
   "source": [
    "# Generate confusion matrix\n",
    "cm_rfr = confusion_matrix(y_test, y_pred)\n",
    "\n",
    "# Create heatmap\n",
    "sns.heatmap(cm_rfr, annot=True, fmt='g')\n",
    "plt.xlabel('Predicted')\n",
    "plt.ylabel('True')\n",
    "plt.show()"
   ]
  },
  {
   "cell_type": "markdown",
   "id": "3df3f6cd",
   "metadata": {
    "papermill": {
     "duration": 0.021816,
     "end_time": "2023-07-18T13:10:03.790155",
     "exception": false,
     "start_time": "2023-07-18T13:10:03.768339",
     "status": "completed"
    },
    "tags": []
   },
   "source": [
    "# calculate classification_report for random forest"
   ]
  },
  {
   "cell_type": "code",
   "execution_count": 27,
   "id": "546969ae",
   "metadata": {
    "execution": {
     "iopub.execute_input": "2023-07-18T13:10:03.837035Z",
     "iopub.status.busy": "2023-07-18T13:10:03.836561Z",
     "iopub.status.idle": "2023-07-18T13:10:03.899764Z",
     "shell.execute_reply": "2023-07-18T13:10:03.897872Z"
    },
    "papermill": {
     "duration": 0.090112,
     "end_time": "2023-07-18T13:10:03.902639",
     "exception": false,
     "start_time": "2023-07-18T13:10:03.812527",
     "status": "completed"
    },
    "tags": []
   },
   "outputs": [
    {
     "name": "stdout",
     "output_type": "stream",
     "text": [
      "              precision    recall  f1-score   support\n",
      "\n",
      "           0       0.96      0.98      0.97     14668\n",
      "           1       0.97      0.94      0.96     11230\n",
      "\n",
      "    accuracy                           0.96     25898\n",
      "   macro avg       0.96      0.96      0.96     25898\n",
      "weighted avg       0.96      0.96      0.96     25898\n",
      "\n"
     ]
    }
   ],
   "source": [
    "print(classification_report(y_test, y_pred))"
   ]
  },
  {
   "cell_type": "markdown",
   "id": "40aadde9",
   "metadata": {
    "papermill": {
     "duration": 0.021952,
     "end_time": "2023-07-18T13:10:03.946525",
     "exception": false,
     "start_time": "2023-07-18T13:10:03.924573",
     "status": "completed"
    },
    "tags": []
   },
   "source": [
    "# using gradient boosting classifier to train and evaluate test data and calculate the accuracy"
   ]
  },
  {
   "cell_type": "code",
   "execution_count": 28,
   "id": "a4453725",
   "metadata": {
    "execution": {
     "iopub.execute_input": "2023-07-18T13:10:03.993363Z",
     "iopub.status.busy": "2023-07-18T13:10:03.992346Z",
     "iopub.status.idle": "2023-07-18T13:11:40.398695Z",
     "shell.execute_reply": "2023-07-18T13:11:40.397465Z"
    },
    "papermill": {
     "duration": 96.45402,
     "end_time": "2023-07-18T13:11:40.422767",
     "exception": false,
     "start_time": "2023-07-18T13:10:03.968747",
     "status": "completed"
    },
    "tags": []
   },
   "outputs": [
    {
     "name": "stdout",
     "output_type": "stream",
     "text": [
      "Accuracy: 0.9610008494864468\n"
     ]
    }
   ],
   "source": [
    "gbc=GradientBoostingClassifier(learning_rate=0.6,n_estimators=500)\n",
    "gbc.fit(X_train,y_train)\n",
    "y_pred1 = gbc.predict(X_test)\n",
    "accuracy=accuracy_score(y_test,y_pred1)\n",
    "print(\"Accuracy:\", accuracy)"
   ]
  },
  {
   "cell_type": "markdown",
   "id": "1001f5f0",
   "metadata": {
    "papermill": {
     "duration": 0.021479,
     "end_time": "2023-07-18T13:11:40.466019",
     "exception": false,
     "start_time": "2023-07-18T13:11:40.444540",
     "status": "completed"
    },
    "tags": []
   },
   "source": [
    "# Generate confusion matrix to calculate precision,recall and f1_score for gradient boost\n"
   ]
  },
  {
   "cell_type": "code",
   "execution_count": 29,
   "id": "e70ad2de",
   "metadata": {
    "execution": {
     "iopub.execute_input": "2023-07-18T13:11:40.513434Z",
     "iopub.status.busy": "2023-07-18T13:11:40.511881Z",
     "iopub.status.idle": "2023-07-18T13:11:40.808591Z",
     "shell.execute_reply": "2023-07-18T13:11:40.807431Z"
    },
    "papermill": {
     "duration": 0.323349,
     "end_time": "2023-07-18T13:11:40.811338",
     "exception": false,
     "start_time": "2023-07-18T13:11:40.487989",
     "status": "completed"
    },
    "tags": []
   },
   "outputs": [
    {
     "data": {
      "image/png": "[encoded data removed]",
      "text/plain": [
       "<Figure size 640x480 with 2 Axes>"
      ]
     },
     "metadata": {},
     "output_type": "display_data"
    }
   ],
   "source": [
    "# Generate confusion matrix\n",
    "cm_gbc = confusion_matrix(y_test, y_pred1)\n",
    "\n",
    "# Create heatmap\n",
    "sns.heatmap(cm_gbc, annot=True, fmt='g')\n",
    "plt.xlabel('Predicted')\n",
    "plt.ylabel('True')\n",
    "plt.show()"
   ]
  },
  {
   "cell_type": "markdown",
   "id": "c49f7495",
   "metadata": {
    "papermill": {
     "duration": 0.021997,
     "end_time": "2023-07-18T13:11:40.855698",
     "exception": false,
     "start_time": "2023-07-18T13:11:40.833701",
     "status": "completed"
    },
    "tags": []
   },
   "source": [
    "# calculate classification_report for gradient boost "
   ]
  },
  {
   "cell_type": "code",
   "execution_count": 30,
   "id": "08c41227",
   "metadata": {
    "execution": {
     "iopub.execute_input": "2023-07-18T13:11:40.903011Z",
     "iopub.status.busy": "2023-07-18T13:11:40.901548Z",
     "iopub.status.idle": "2023-07-18T13:11:40.963644Z",
     "shell.execute_reply": "2023-07-18T13:11:40.961862Z"
    },
    "papermill": {
     "duration": 0.088569,
     "end_time": "2023-07-18T13:11:40.966442",
     "exception": false,
     "start_time": "2023-07-18T13:11:40.877873",
     "status": "completed"
    },
    "tags": []
   },
   "outputs": [
    {
     "name": "stdout",
     "output_type": "stream",
     "text": [
      "              precision    recall  f1-score   support\n",
      "\n",
      "           0       0.96      0.97      0.97     14668\n",
      "           1       0.96      0.95      0.95     11230\n",
      "\n",
      "    accuracy                           0.96     25898\n",
      "   macro avg       0.96      0.96      0.96     25898\n",
      "weighted avg       0.96      0.96      0.96     25898\n",
      "\n"
     ]
    }
   ],
   "source": [
    "print(classification_report(y_test, y_pred1))"
   ]
  },
  {
   "cell_type": "markdown",
   "id": "d08ff75c",
   "metadata": {
    "papermill": {
     "duration": 0.023345,
     "end_time": "2023-07-18T13:11:41.012642",
     "exception": false,
     "start_time": "2023-07-18T13:11:40.989297",
     "status": "completed"
    },
    "tags": []
   },
   "source": [
    "# using xgbclassifier to train and evaluate test data and calculate the accuracy"
   ]
  },
  {
   "cell_type": "code",
   "execution_count": 31,
   "id": "be0f3b29",
   "metadata": {
    "execution": {
     "iopub.execute_input": "2023-07-18T13:11:41.062268Z",
     "iopub.status.busy": "2023-07-18T13:11:41.061098Z",
     "iopub.status.idle": "2023-07-18T13:12:14.034836Z",
     "shell.execute_reply": "2023-07-18T13:12:14.033485Z"
    },
    "papermill": {
     "duration": 33.015842,
     "end_time": "2023-07-18T13:12:14.052007",
     "exception": false,
     "start_time": "2023-07-18T13:11:41.036165",
     "status": "completed"
    },
    "tags": []
   },
   "outputs": [
    {
     "name": "stdout",
     "output_type": "stream",
     "text": [
      "Accuracy: 0.9644374082940768\n"
     ]
    }
   ],
   "source": [
    "from xgboost import XGBClassifier\n",
    "xgb=XGBClassifier(n_estimators=400,learning_rate=.1)\n",
    "xgb.fit(X_train,y_train)\n",
    "y_pred2=xgb.predict(X_test)\n",
    "accuracy=accuracy_score(y_test,y_pred2)\n",
    "print(\"Accuracy:\", accuracy)"
   ]
  },
  {
   "cell_type": "markdown",
   "id": "7c96a94e",
   "metadata": {
    "papermill": {
     "duration": 0.022394,
     "end_time": "2023-07-18T13:12:14.097223",
     "exception": false,
     "start_time": "2023-07-18T13:12:14.074829",
     "status": "completed"
    },
    "tags": []
   },
   "source": [
    "# Generate confusion matrix to calculate precision,recall and f1_score for xgboost\n"
   ]
  },
  {
   "cell_type": "code",
   "execution_count": 32,
   "id": "dad6c3d4",
   "metadata": {
    "execution": {
     "iopub.execute_input": "2023-07-18T13:12:14.145751Z",
     "iopub.status.busy": "2023-07-18T13:12:14.144803Z",
     "iopub.status.idle": "2023-07-18T13:12:14.452754Z",
     "shell.execute_reply": "2023-07-18T13:12:14.451509Z"
    },
    "papermill": {
     "duration": 0.335797,
     "end_time": "2023-07-18T13:12:14.455719",
     "exception": false,
     "start_time": "2023-07-18T13:12:14.119922",
     "status": "completed"
    },
    "tags": []
   },
   "outputs": [
    {
     "data": {
      "image/png": "[encoded data removed]",
      "text/plain": [
       "<Figure size 640x480 with 2 Axes>"
      ]
     },
     "metadata": {},
     "output_type": "display_data"
    }
   ],
   "source": [
    "# Generate confusion matrix\n",
    "cm_xgb = confusion_matrix(y_test, y_pred2)\n",
    "\n",
    "# Create heatmap\n",
    "sns.heatmap(cm_xgb, annot=True, fmt='g')\n",
    "plt.xlabel('Predicted')\n",
    "plt.ylabel('True')\n",
    "plt.show()"
   ]
  },
  {
   "cell_type": "markdown",
   "id": "2d3dbd71",
   "metadata": {
    "papermill": {
     "duration": 0.024083,
     "end_time": "2023-07-18T13:12:14.502792",
     "exception": false,
     "start_time": "2023-07-18T13:12:14.478709",
     "status": "completed"
    },
    "tags": []
   },
   "source": [
    "# calculate classification_report for xgboost "
   ]
  },
  {
   "cell_type": "code",
   "execution_count": 33,
   "id": "2a26d405",
   "metadata": {
    "execution": {
     "iopub.execute_input": "2023-07-18T13:12:14.551551Z",
     "iopub.status.busy": "2023-07-18T13:12:14.551043Z",
     "iopub.status.idle": "2023-07-18T13:12:14.610989Z",
     "shell.execute_reply": "2023-07-18T13:12:14.609498Z"
    },
    "papermill": {
     "duration": 0.08791,
     "end_time": "2023-07-18T13:12:14.613813",
     "exception": false,
     "start_time": "2023-07-18T13:12:14.525903",
     "status": "completed"
    },
    "tags": []
   },
   "outputs": [
    {
     "name": "stdout",
     "output_type": "stream",
     "text": [
      "              precision    recall  f1-score   support\n",
      "\n",
      "           0       0.96      0.98      0.97     14668\n",
      "           1       0.97      0.95      0.96     11230\n",
      "\n",
      "    accuracy                           0.96     25898\n",
      "   macro avg       0.97      0.96      0.96     25898\n",
      "weighted avg       0.96      0.96      0.96     25898\n",
      "\n"
     ]
    }
   ],
   "source": [
    "print(classification_report(y_test, y_pred2))"
   ]
  },
  {
   "cell_type": "markdown",
   "id": "6d554da0",
   "metadata": {
    "papermill": {
     "duration": 0.023239,
     "end_time": "2023-07-18T13:12:14.660186",
     "exception": false,
     "start_time": "2023-07-18T13:12:14.636947",
     "status": "completed"
    },
    "tags": []
   },
   "source": [
    "# Computing ROC curve and AUC for 3 models to determine the best model"
   ]
  },
  {
   "cell_type": "code",
   "execution_count": 34,
   "id": "42d82da9",
   "metadata": {
    "execution": {
     "iopub.execute_input": "2023-07-18T13:12:14.708787Z",
     "iopub.status.busy": "2023-07-18T13:12:14.708252Z",
     "iopub.status.idle": "2023-07-18T13:12:15.955234Z",
     "shell.execute_reply": "2023-07-18T13:12:15.953753Z"
    },
    "papermill": {
     "duration": 1.274877,
     "end_time": "2023-07-18T13:12:15.958104",
     "exception": false,
     "start_time": "2023-07-18T13:12:14.683227",
     "status": "completed"
    },
    "tags": []
   },
   "outputs": [
    {
     "data": {
      "image/png": "[encoded data removed]",
      "text/plain": [
       "<Figure size 640x480 with 1 Axes>"
      ]
     },
     "metadata": {},
     "output_type": "display_data"
    }
   ],
   "source": [
    "# Generate predicted probabilities\n",
    "y_prob = rfr.predict_proba(X_test)[:,1]\n",
    "\n",
    "# Compute ROC curve and AUC\n",
    "fpr, tpr, thresholds = roc_curve(y_test, y_prob)\n",
    "roc_auc = auc(fpr, tpr)\n",
    "\n",
    "# Plot ROC curve\n",
    "plt.plot(fpr, tpr, lw=2, label='AUC = %0.2f' % roc_auc)\n",
    "plt.plot([0, 1], [0, 1], '--', color='gray', label='Random')\n",
    "plt.xlim([0.0, 1.0])\n",
    "plt.ylim([0.0, 1.05])\n",
    "plt.xlabel('False Positive Rate')\n",
    "plt.ylabel('True Positive Rate')\n",
    "plt.title('RandomForestClassifier AUC CURVE')\n",
    "plt.legend(loc=\"lower right\")\n",
    "plt.show()"
   ]
  },
  {
   "cell_type": "code",
   "execution_count": 35,
   "id": "b882aff2",
   "metadata": {
    "execution": {
     "iopub.execute_input": "2023-07-18T13:12:16.010451Z",
     "iopub.status.busy": "2023-07-18T13:12:16.009940Z",
     "iopub.status.idle": "2023-07-18T13:12:16.558925Z",
     "shell.execute_reply": "2023-07-18T13:12:16.557646Z"
    },
    "papermill": {
     "duration": 0.578383,
     "end_time": "2023-07-18T13:12:16.561607",
     "exception": false,
     "start_time": "2023-07-18T13:12:15.983224",
     "status": "completed"
    },
    "tags": []
   },
   "outputs": [
    {
     "data": {
      "image/png": "[encoded data removed]",
      "text/plain": [
       "<Figure size 640x480 with 1 Axes>"
      ]
     },
     "metadata": {},
     "output_type": "display_data"
    }
   ],
   "source": [
    "# Generate predicted probabilities\n",
    "y_prob1 = gbc.predict_proba(X_test)[:,1]\n",
    "\n",
    "# Compute ROC curve and AUC\n",
    "fpr, tpr, thresholds = roc_curve(y_test, y_prob1)\n",
    "roc_auc = auc(fpr, tpr)\n",
    "\n",
    "# Plot ROC curve\n",
    "plt.plot(fpr, tpr, lw=2, label='AUC = %0.2f' % roc_auc)\n",
    "plt.plot([0, 1], [0, 1], '--', color='gray', label='Random')\n",
    "plt.xlim([0.0, 1.0])\n",
    "plt.ylim([0.0, 1.05])\n",
    "plt.xlabel('False Positive Rate')\n",
    "plt.ylabel('True Positive Rate')\n",
    "plt.title('GradientBoostingClassifier AUC CURVE')\n",
    "plt.legend(loc=\"lower right\")\n",
    "plt.show()"
   ]
  },
  {
   "cell_type": "code",
   "execution_count": 36,
   "id": "4b971f31",
   "metadata": {
    "execution": {
     "iopub.execute_input": "2023-07-18T13:12:16.614112Z",
     "iopub.status.busy": "2023-07-18T13:12:16.613598Z",
     "iopub.status.idle": "2023-07-18T13:12:17.038964Z",
     "shell.execute_reply": "2023-07-18T13:12:17.038021Z"
    },
    "papermill": {
     "duration": 0.454884,
     "end_time": "2023-07-18T13:12:17.041796",
     "exception": false,
     "start_time": "2023-07-18T13:12:16.586912",
     "status": "completed"
    },
    "tags": []
   },
   "outputs": [
    {
     "data": {
      "image/png": "[encoded data removed]",
      "text/plain": [
       "<Figure size 640x480 with 1 Axes>"
      ]
     },
     "metadata": {},
     "output_type": "display_data"
    }
   ],
   "source": [
    "# Generate predicted probabilities\n",
    "y_prob = xgb.predict_proba(X_test)[:,1]\n",
    "\n",
    "# Compute ROC curve and AUC\n",
    "fpr, tpr, thresholds = roc_curve(y_test, y_prob)\n",
    "roc_auc = auc(fpr, tpr)\n",
    "\n",
    "# Plot ROC curve\n",
    "plt.plot(fpr, tpr, lw=2, label='AUC = %0.2f' % roc_auc)\n",
    "plt.plot([0, 1], [0, 1], '--', color='gray', label='Random')\n",
    "plt.xlim([0.0, 1.0])\n",
    "plt.ylim([0.0, 1.05])\n",
    "plt.xlabel('False Positive Rate')\n",
    "plt.ylabel('True Positive Rate')\n",
    "plt.title('XGBOOSTClassifier AUC CURVE')\n",
    "plt.legend(loc=\"lower right\")\n",
    "plt.show()"
   ]
  },
  {
   "cell_type": "markdown",
   "id": "c12be20d",
   "metadata": {
    "papermill": {
     "duration": 0.025401,
     "end_time": "2023-07-18T13:12:17.092783",
     "exception": false,
     "start_time": "2023-07-18T13:12:17.067382",
     "status": "completed"
    },
    "tags": []
   },
   "source": [
    "# as we see the xgboost classifier is the best models for satisfaction prediction"
   ]
  },
  {
   "cell_type": "markdown",
   "id": "f0b0e3b4",
   "metadata": {
    "papermill": {
     "duration": 0.025544,
     "end_time": "2023-07-18T13:12:17.145119",
     "exception": false,
     "start_time": "2023-07-18T13:12:17.119575",
     "status": "completed"
    },
    "tags": []
   },
   "source": [
    "# comparing between actual and predicted by xgboost model"
   ]
  },
  {
   "cell_type": "code",
   "execution_count": 37,
   "id": "4a14980c",
   "metadata": {
    "execution": {
     "iopub.execute_input": "2023-07-18T13:12:17.200178Z",
     "iopub.status.busy": "2023-07-18T13:12:17.199162Z",
     "iopub.status.idle": "2023-07-18T13:12:17.209883Z",
     "shell.execute_reply": "2023-07-18T13:12:17.208551Z"
    },
    "papermill": {
     "duration": 0.041399,
     "end_time": "2023-07-18T13:12:17.212539",
     "exception": false,
     "start_time": "2023-07-18T13:12:17.171140",
     "status": "completed"
    },
    "tags": []
   },
   "outputs": [
    {
     "name": "stdout",
     "output_type": "stream",
     "text": [
      "        y_test  y_pred\n",
      "98173        1       1\n",
      "24942        0       0\n",
      "69235        0       0\n",
      "90480        1       1\n",
      "36184        0       0\n",
      "25120        0       0\n",
      "24437        0       0\n",
      "47378        0       0\n",
      "93648        0       0\n",
      "88661        0       0\n",
      "67629        0       0\n",
      "52983        1       1\n",
      "126543       0       0\n",
      "87263        0       0\n",
      "67131        0       0\n",
      "23587        1       1\n",
      "44508        0       0\n",
      "46261        0       0\n",
      "71827        1       1\n",
      "20100        1       1\n"
     ]
    }
   ],
   "source": [
    "# Create a DataFrame with y_pred and y_test\n",
    "df_comparing = pd.DataFrame({'y_test': y_test, 'y_pred': y_pred2})\n",
    "\n",
    "# Print the first 10 rows of the DataFrame\n",
    "print(df_comparing.head(20))"
   ]
  },
  {
   "cell_type": "markdown",
   "id": "b0e6318c",
   "metadata": {
    "papermill": {
     "duration": 0.026595,
     "end_time": "2023-07-18T13:12:17.265985",
     "exception": false,
     "start_time": "2023-07-18T13:12:17.239390",
     "status": "completed"
    },
    "tags": []
   },
   "source": [
    "# visualizing the most important features that effects on passengers satisfaction"
   ]
  },
  {
   "cell_type": "code",
   "execution_count": 38,
   "id": "f99557ab",
   "metadata": {
    "execution": {
     "iopub.execute_input": "2023-07-18T13:12:17.322645Z",
     "iopub.status.busy": "2023-07-18T13:12:17.322141Z",
     "iopub.status.idle": "2023-07-18T13:12:17.336235Z",
     "shell.execute_reply": "2023-07-18T13:12:17.335071Z"
    },
    "papermill": {
     "duration": 0.046173,
     "end_time": "2023-07-18T13:12:17.339440",
     "exception": false,
     "start_time": "2023-07-18T13:12:17.293267",
     "status": "completed"
    },
    "tags": []
   },
   "outputs": [
    {
     "name": "stdout",
     "output_type": "stream",
     "text": [
      "                         feature name  importances\n",
      "0                     Online boarding     0.427373\n",
      "1                      Type of Travel     0.142724\n",
      "2               Inflight wifi service     0.103498\n",
      "3                       Customer Type     0.065234\n",
      "4                               Class     0.037340\n",
      "5              Inflight entertainment     0.036650\n",
      "6                     Checkin service     0.032179\n",
      "7                         Cleanliness     0.021241\n",
      "8                    Baggage handling     0.018268\n",
      "9                    Leg room service     0.017652\n",
      "10                   On-board service     0.017107\n",
      "11                      Gate location     0.016122\n",
      "12                       Seat comfort     0.016059\n",
      "13                   Inflight service     0.015702\n",
      "14             Ease of Online booking     0.008247\n",
      "15                                Age     0.006089\n",
      "16  Departure/Arrival time convenient     0.005355\n",
      "17           Arrival Delay in Minutes     0.003958\n",
      "18                     Food and drink     0.002732\n",
      "19                    Flight Distance     0.002665\n",
      "20         Departure Delay in Minutes     0.001906\n",
      "21                             Gender     0.001898\n"
     ]
    }
   ],
   "source": [
    "# Create a DataFrame of feature importances\n",
    "df_importances = pd.DataFrame(list(X), xgb.feature_importances_)\n",
    "\n",
    "# Set the column names\n",
    "df_importances.columns = ['feature name']\n",
    "\n",
    "# Add a column with the feature importances\n",
    "df_importances['importances'] = df_importances.index\n",
    "\n",
    "# Sort the DataFrame by importance, descending\n",
    "df_importances = df_importances.sort_values(by='importances', ascending=False)\n",
    "\n",
    "# Set the index to the range from 0 to the length of the DataFrame\n",
    "df_importances.index = np.arange(0, len(df_importances))\n",
    "\n",
    "# Print the DataFrame\n",
    "print(df_importances)"
   ]
  },
  {
   "cell_type": "code",
   "execution_count": 39,
   "id": "e9b8276b",
   "metadata": {
    "execution": {
     "iopub.execute_input": "2023-07-18T13:12:17.393945Z",
     "iopub.status.busy": "2023-07-18T13:12:17.393499Z",
     "iopub.status.idle": "2023-07-18T13:12:19.359068Z",
     "shell.execute_reply": "2023-07-18T13:12:19.357589Z"
    },
    "papermill": {
     "duration": 1.996614,
     "end_time": "2023-07-18T13:12:19.361914",
     "exception": false,
     "start_time": "2023-07-18T13:12:17.365300",
     "status": "completed"
    },
    "tags": []
   },
   "outputs": [
    {
     "data": {
      "text/html": [
       "        <script type=\"text/javascript\">\n",
       "        window.PlotlyConfig = {MathJaxConfig: 'local'};\n",
       "        if (window.MathJax && window.MathJax.Hub && window.MathJax.Hub.Config) {window.MathJax.Hub.Config({SVG: {font: \"STIX-Web\"}});}\n",
       "        if (typeof require !== 'undefined') {\n",
       "        require.undef(\"plotly\");\n",
       "        requirejs.config({\n",
       "            paths: {\n",
       "                'plotly': ['https://cdn.plot.ly/plotly-2.24.1.min']\n",
       "            }\n",
       "        });\n",
       "        require(['plotly'], function(Plotly) {\n",
       "            window._Plotly = Plotly;\n",
       "        });\n",
       "        }\n",
       "        </script>\n",
       "        "
      ]
     },
     "metadata": {},
     "output_type": "display_data"
    },
    {
     "data": {
      "text/html": [
       "<div>                            <div id=\"eab43cb4-940d-4899-999c-085923c14076\" class=\"plotly-graph-div\" style=\"height:525px; width:100%;\"></div>            <script type=\"text/javascript\">                require([\"plotly\"], function(Plotly) {                    window.PLOTLYENV=window.PLOTLYENV || {};                                    if (document.getElementById(\"eab43cb4-940d-4899-999c-085923c14076\")) {                    Plotly.newPlot(                        \"eab43cb4-940d-4899-999c-085923c14076\",                        [{\"alignmentgroup\":\"True\",\"hovertemplate\":\"importances=%{marker.color}\\u003cbr\\u003efeature name=%{y}\\u003cextra\\u003e\\u003c\\u002fextra\\u003e\",\"legendgroup\":\"\",\"marker\":{\"color\":[0.0018979220185428858,0.001905707293190062,0.0026647038757801056,0.0027322187088429928,0.003957761451601982,0.005354999098926783,0.00608868757262826,0.008246599696576595,0.01570231467485428,0.016059180721640587,0.016122426837682724,0.017106564715504646,0.017652161419391632,0.018268238753080368,0.021241316571831703,0.03217930719256401,0.03665013611316681,0.03733976557850838,0.06523445248603821,0.10349836945533752,0.14272375404834747,0.4273732006549835],\"coloraxis\":\"coloraxis\",\"pattern\":{\"shape\":\"\"}},\"name\":\"\",\"offsetgroup\":\"\",\"orientation\":\"h\",\"showlegend\":false,\"textposition\":\"auto\",\"x\":[0.0018979220185428858,0.001905707293190062,0.0026647038757801056,0.0027322187088429928,0.003957761451601982,0.005354999098926783,0.00608868757262826,0.008246599696576595,0.01570231467485428,0.016059180721640587,0.016122426837682724,0.017106564715504646,0.017652161419391632,0.018268238753080368,0.021241316571831703,0.03217930719256401,0.03665013611316681,0.03733976557850838,0.06523445248603821,0.10349836945533752,0.14272375404834747,0.4273732006549835],\"xaxis\":\"x\",\"y\":[\"Gender\",\"Departure Delay in Minutes\",\"Flight Distance\",\"Food and drink\",\"Arrival Delay in Minutes\",\"Departure\\u002fArrival time convenient\",\"Age\",\"Ease of Online booking\",\"Inflight service\",\"Seat comfort\",\"Gate location\",\"On-board service\",\"Leg room service\",\"Baggage handling\",\"Cleanliness\",\"Checkin service\",\"Inflight entertainment\",\"Class\",\"Customer Type\",\"Inflight wifi service\",\"Type of Travel\",\"Online boarding\"],\"yaxis\":\"y\",\"type\":\"bar\"}],                        {\"template\":{\"data\":{\"histogram2dcontour\":[{\"type\":\"histogram2dcontour\",\"colorbar\":{\"outlinewidth\":0,\"ticks\":\"\"},\"colorscale\":[[0.0,\"#0d0887\"],[0.1111111111111111,\"#46039f\"],[0.2222222222222222,\"#7201a8\"],[0.3333333333333333,\"#9c179e\"],[0.4444444444444444,\"#bd3786\"],[0.5555555555555556,\"#d8576b\"],[0.6666666666666666,\"#ed7953\"],[0.7777777777777778,\"#fb9f3a\"],[0.8888888888888888,\"#fdca26\"],[1.0,\"#f0f921\"]]}],\"choropleth\":[{\"type\":\"choropleth\",\"colorbar\":{\"outlinewidth\":0,\"ticks\":\"\"}}],\"histogram2d\":[{\"type\":\"histogram2d\",\"colorbar\":{\"outlinewidth\":0,\"ticks\":\"\"},\"colorscale\":[[0.0,\"#0d0887\"],[0.1111111111111111,\"#46039f\"],[0.2222222222222222,\"#7201a8\"],[0.3333333333333333,\"#9c179e\"],[0.4444444444444444,\"#bd3786\"],[0.5555555555555556,\"#d8576b\"],[0.6666666666666666,\"#ed7953\"],[0.7777777777777778,\"#fb9f3a\"],[0.8888888888888888,\"#fdca26\"],[1.0,\"#f0f921\"]]}],\"heatmap\":[{\"type\":\"heatmap\",\"colorbar\":{\"outlinewidth\":0,\"ticks\":\"\"},\"colorscale\":[[0.0,\"#0d0887\"],[0.1111111111111111,\"#46039f\"],[0.2222222222222222,\"#7201a8\"],[0.3333333333333333,\"#9c179e\"],[0.4444444444444444,\"#bd3786\"],[0.5555555555555556,\"#d8576b\"],[0.6666666666666666,\"#ed7953\"],[0.7777777777777778,\"#fb9f3a\"],[0.8888888888888888,\"#fdca26\"],[1.0,\"#f0f921\"]]}],\"heatmapgl\":[{\"type\":\"heatmapgl\",\"colorbar\":{\"outlinewidth\":0,\"ticks\":\"\"},\"colorscale\":[[0.0,\"#0d0887\"],[0.1111111111111111,\"#46039f\"],[0.2222222222222222,\"#7201a8\"],[0.3333333333333333,\"#9c179e\"],[0.4444444444444444,\"#bd3786\"],[0.5555555555555556,\"#d8576b\"],[0.6666666666666666,\"#ed7953\"],[0.7777777777777778,\"#fb9f3a\"],[0.8888888888888888,\"#fdca26\"],[1.0,\"#f0f921\"]]}],\"contourcarpet\":[{\"type\":\"contourcarpet\",\"colorbar\":{\"outlinewidth\":0,\"ticks\":\"\"}}],\"contour\":[{\"type\":\"contour\",\"colorbar\":{\"outlinewidth\":0,\"ticks\":\"\"},\"colorscale\":[[0.0,\"#0d0887\"],[0.1111111111111111,\"#46039f\"],[0.2222222222222222,\"#7201a8\"],[0.3333333333333333,\"#9c179e\"],[0.4444444444444444,\"#bd3786\"],[0.5555555555555556,\"#d8576b\"],[0.6666666666666666,\"#ed7953\"],[0.7777777777777778,\"#fb9f3a\"],[0.8888888888888888,\"#fdca26\"],[1.0,\"#f0f921\"]]}],\"surface\":[{\"type\":\"surface\",\"colorbar\":{\"outlinewidth\":0,\"ticks\":\"\"},\"colorscale\":[[0.0,\"#0d0887\"],[0.1111111111111111,\"#46039f\"],[0.2222222222222222,\"#7201a8\"],[0.3333333333333333,\"#9c179e\"],[0.4444444444444444,\"#bd3786\"],[0.5555555555555556,\"#d8576b\"],[0.6666666666666666,\"#ed7953\"],[0.7777777777777778,\"#fb9f3a\"],[0.8888888888888888,\"#fdca26\"],[1.0,\"#f0f921\"]]}],\"mesh3d\":[{\"type\":\"mesh3d\",\"colorbar\":{\"outlinewidth\":0,\"ticks\":\"\"}}],\"scatter\":[{\"fillpattern\":{\"fillmode\":\"overlay\",\"size\":10,\"solidity\":0.2},\"type\":\"scatter\"}],\"parcoords\":[{\"type\":\"parcoords\",\"line\":{\"colorbar\":{\"outlinewidth\":0,\"ticks\":\"\"}}}],\"scatterpolargl\":[{\"type\":\"scatterpolargl\",\"marker\":{\"colorbar\":{\"outlinewidth\":0,\"ticks\":\"\"}}}],\"bar\":[{\"error_x\":{\"color\":\"#2a3f5f\"},\"error_y\":{\"color\":\"#2a3f5f\"},\"marker\":{\"line\":{\"color\":\"#E5ECF6\",\"width\":0.5},\"pattern\":{\"fillmode\":\"overlay\",\"size\":10,\"solidity\":0.2}},\"type\":\"bar\"}],\"scattergeo\":[{\"type\":\"scattergeo\",\"marker\":{\"colorbar\":{\"outlinewidth\":0,\"ticks\":\"\"}}}],\"scatterpolar\":[{\"type\":\"scatterpolar\",\"marker\":{\"colorbar\":{\"outlinewidth\":0,\"ticks\":\"\"}}}],\"histogram\":[{\"marker\":{\"pattern\":{\"fillmode\":\"overlay\",\"size\":10,\"solidity\":0.2}},\"type\":\"histogram\"}],\"scattergl\":[{\"type\":\"scattergl\",\"marker\":{\"colorbar\":{\"outlinewidth\":0,\"ticks\":\"\"}}}],\"scatter3d\":[{\"type\":\"scatter3d\",\"line\":{\"colorbar\":{\"outlinewidth\":0,\"ticks\":\"\"}},\"marker\":{\"colorbar\":{\"outlinewidth\":0,\"ticks\":\"\"}}}],\"scattermapbox\":[{\"type\":\"scattermapbox\",\"marker\":{\"colorbar\":{\"outlinewidth\":0,\"ticks\":\"\"}}}],\"scatterternary\":[{\"type\":\"scatterternary\",\"marker\":{\"colorbar\":{\"outlinewidth\":0,\"ticks\":\"\"}}}],\"scattercarpet\":[{\"type\":\"scattercarpet\",\"marker\":{\"colorbar\":{\"outlinewidth\":0,\"ticks\":\"\"}}}],\"carpet\":[{\"aaxis\":{\"endlinecolor\":\"#2a3f5f\",\"gridcolor\":\"white\",\"linecolor\":\"white\",\"minorgridcolor\":\"white\",\"startlinecolor\":\"#2a3f5f\"},\"baxis\":{\"endlinecolor\":\"#2a3f5f\",\"gridcolor\":\"white\",\"linecolor\":\"white\",\"minorgridcolor\":\"white\",\"startlinecolor\":\"#2a3f5f\"},\"type\":\"carpet\"}],\"table\":[{\"cells\":{\"fill\":{\"color\":\"#EBF0F8\"},\"line\":{\"color\":\"white\"}},\"header\":{\"fill\":{\"color\":\"#C8D4E3\"},\"line\":{\"color\":\"white\"}},\"type\":\"table\"}],\"barpolar\":[{\"marker\":{\"line\":{\"color\":\"#E5ECF6\",\"width\":0.5},\"pattern\":{\"fillmode\":\"overlay\",\"size\":10,\"solidity\":0.2}},\"type\":\"barpolar\"}],\"pie\":[{\"automargin\":true,\"type\":\"pie\"}]},\"layout\":{\"autotypenumbers\":\"strict\",\"colorway\":[\"#636efa\",\"#EF553B\",\"#00cc96\",\"#ab63fa\",\"#FFA15A\",\"#19d3f3\",\"#FF6692\",\"#B6E880\",\"#FF97FF\",\"#FECB52\"],\"font\":{\"color\":\"#2a3f5f\"},\"hovermode\":\"closest\",\"hoverlabel\":{\"align\":\"left\"},\"paper_bgcolor\":\"white\",\"plot_bgcolor\":\"#E5ECF6\",\"polar\":{\"bgcolor\":\"#E5ECF6\",\"angularaxis\":{\"gridcolor\":\"white\",\"linecolor\":\"white\",\"ticks\":\"\"},\"radialaxis\":{\"gridcolor\":\"white\",\"linecolor\":\"white\",\"ticks\":\"\"}},\"ternary\":{\"bgcolor\":\"#E5ECF6\",\"aaxis\":{\"gridcolor\":\"white\",\"linecolor\":\"white\",\"ticks\":\"\"},\"baxis\":{\"gridcolor\":\"white\",\"linecolor\":\"white\",\"ticks\":\"\"},\"caxis\":{\"gridcolor\":\"white\",\"linecolor\":\"white\",\"ticks\":\"\"}},\"coloraxis\":{\"colorbar\":{\"outlinewidth\":0,\"ticks\":\"\"}},\"colorscale\":{\"sequential\":[[0.0,\"#0d0887\"],[0.1111111111111111,\"#46039f\"],[0.2222222222222222,\"#7201a8\"],[0.3333333333333333,\"#9c179e\"],[0.4444444444444444,\"#bd3786\"],[0.5555555555555556,\"#d8576b\"],[0.6666666666666666,\"#ed7953\"],[0.7777777777777778,\"#fb9f3a\"],[0.8888888888888888,\"#fdca26\"],[1.0,\"#f0f921\"]],\"sequentialminus\":[[0.0,\"#0d0887\"],[0.1111111111111111,\"#46039f\"],[0.2222222222222222,\"#7201a8\"],[0.3333333333333333,\"#9c179e\"],[0.4444444444444444,\"#bd3786\"],[0.5555555555555556,\"#d8576b\"],[0.6666666666666666,\"#ed7953\"],[0.7777777777777778,\"#fb9f3a\"],[0.8888888888888888,\"#fdca26\"],[1.0,\"#f0f921\"]],\"diverging\":[[0,\"#8e0152\"],[0.1,\"#c51b7d\"],[0.2,\"#de77ae\"],[0.3,\"#f1b6da\"],[0.4,\"#fde0ef\"],[0.5,\"#f7f7f7\"],[0.6,\"#e6f5d0\"],[0.7,\"#b8e186\"],[0.8,\"#7fbc41\"],[0.9,\"#4d9221\"],[1,\"#276419\"]]},\"xaxis\":{\"gridcolor\":\"white\",\"linecolor\":\"white\",\"ticks\":\"\",\"title\":{\"standoff\":15},\"zerolinecolor\":\"white\",\"automargin\":true,\"zerolinewidth\":2},\"yaxis\":{\"gridcolor\":\"white\",\"linecolor\":\"white\",\"ticks\":\"\",\"title\":{\"standoff\":15},\"zerolinecolor\":\"white\",\"automargin\":true,\"zerolinewidth\":2},\"scene\":{\"xaxis\":{\"backgroundcolor\":\"#E5ECF6\",\"gridcolor\":\"white\",\"linecolor\":\"white\",\"showbackground\":true,\"ticks\":\"\",\"zerolinecolor\":\"white\",\"gridwidth\":2},\"yaxis\":{\"backgroundcolor\":\"#E5ECF6\",\"gridcolor\":\"white\",\"linecolor\":\"white\",\"showbackground\":true,\"ticks\":\"\",\"zerolinecolor\":\"white\",\"gridwidth\":2},\"zaxis\":{\"backgroundcolor\":\"#E5ECF6\",\"gridcolor\":\"white\",\"linecolor\":\"white\",\"showbackground\":true,\"ticks\":\"\",\"zerolinecolor\":\"white\",\"gridwidth\":2}},\"shapedefaults\":{\"line\":{\"color\":\"#2a3f5f\"}},\"annotationdefaults\":{\"arrowcolor\":\"#2a3f5f\",\"arrowhead\":0,\"arrowwidth\":1},\"geo\":{\"bgcolor\":\"white\",\"landcolor\":\"#E5ECF6\",\"subunitcolor\":\"white\",\"showland\":true,\"showlakes\":true,\"lakecolor\":\"white\"},\"title\":{\"x\":0.05},\"mapbox\":{\"style\":\"light\"}}},\"xaxis\":{\"anchor\":\"y\",\"domain\":[0.0,1.0],\"title\":{\"text\":\"Importances\"}},\"yaxis\":{\"anchor\":\"x\",\"domain\":[0.0,1.0],\"title\":{\"text\":\"Feature Name\"}},\"coloraxis\":{\"colorbar\":{\"title\":{\"text\":\"importances\"}},\"colorscale\":[[0.0,\"#0d0887\"],[0.1111111111111111,\"#46039f\"],[0.2222222222222222,\"#7201a8\"],[0.3333333333333333,\"#9c179e\"],[0.4444444444444444,\"#bd3786\"],[0.5555555555555556,\"#d8576b\"],[0.6666666666666666,\"#ed7953\"],[0.7777777777777778,\"#fb9f3a\"],[0.8888888888888888,\"#fdca26\"],[1.0,\"#f0f921\"]]},\"legend\":{\"tracegroupgap\":0},\"margin\":{\"t\":60},\"barmode\":\"relative\",\"title\":{\"text\":\"Feature Importances\"}},                        {\"responsive\": true}                    ).then(function(){\n",
       "                            \n",
       "var gd = document.getElementById('eab43cb4-940d-4899-999c-085923c14076');\n",
       "var x = new MutationObserver(function (mutations, observer) {{\n",
       "        var display = window.getComputedStyle(gd).display;\n",
       "        if (!display || display === 'none') {{\n",
       "            console.log([gd, 'removed!']);\n",
       "            Plotly.purge(gd);\n",
       "            observer.disconnect();\n",
       "        }}\n",
       "}});\n",
       "\n",
       "// Listen for the removal of the full notebook cells\n",
       "var notebookContainer = gd.closest('#notebook-container');\n",
       "if (notebookContainer) {{\n",
       "    x.observe(notebookContainer, {childList: true});\n",
       "}}\n",
       "\n",
       "// Listen for the clearing of the current output cell\n",
       "var outputEl = gd.closest('.output');\n",
       "if (outputEl) {{\n",
       "    x.observe(outputEl, {childList: true});\n",
       "}}\n",
       "\n",
       "                        })                };                });            </script>        </div>"
      ]
     },
     "metadata": {},
     "output_type": "display_data"
    }
   ],
   "source": [
    "import plotly.express as px\n",
    "\n",
    "# Sort the feature importances in descending order\n",
    "df_importances = df_importances.sort_values(by='importances', ascending=True)\n",
    "\n",
    "# Create a bar plot of the feature importances\n",
    "fig = px.bar(df_importances, x='importances', y='feature name', color='importances',\n",
    "             hover_data=['feature name'], color_continuous_scale=px.colors.sequential.Plasma)\n",
    "\n",
    "# Set the title and axis labels\n",
    "fig.update_layout(title='Feature Importances', xaxis_title='Importances', yaxis_title='Feature Name')\n",
    "\n",
    "# Show the plot\n",
    "fig.show()"
   ]
  },
  {
   "cell_type": "markdown",
   "id": "a0e04091",
   "metadata": {
    "papermill": {
     "duration": 0.026312,
     "end_time": "2023-07-18T13:12:19.415135",
     "exception": false,
     "start_time": "2023-07-18T13:12:19.388823",
     "status": "completed"
    },
    "tags": []
   },
   "source": [
    "# the most feature that effects on passengers satisfaction is online boarding so to raising the passengers satisfaction the us airline should be concerned with improving the online boarding performance. "
   ]
  }
 ],
 "metadata": {
  "kernelspec": {
   "display_name": "Python 3",
   "language": "python",
   "name": "python3"
  },
  "language_info": {
   "codemirror_mode": {
    "name": "ipython",
    "version": 3
   },
   "file_extension": ".py",
   "mimetype": "text/x-python",
   "name": "python",
   "nbconvert_exporter": "python",
   "pygments_lexer": "ipython3",
   "version": "3.10.12"
  },
  "papermill": {
   "default_parameters": {},
   "duration": 181.09197,
   "end_time": "2023-07-18T13:12:22.039239",
   "environment_variables": {},
   "exception": null,
   "input_path": "__notebook__.ipynb",
   "output_path": "__notebook__.ipynb",
   "parameters": {},
   "start_time": "2023-07-18T13:09:20.947269",
   "version": "2.4.0"
  }
 },
 "nbformat": 4,
 "nbformat_minor": 5
}
